{
 "cells": [
  {
   "cell_type": "markdown",
   "id": "5d17eca1",
   "metadata": {},
   "source": [
    "## Sistemas de recomendación"
   ]
  },
  {
   "cell_type": "markdown",
   "id": "6a10a4d9",
   "metadata": {},
   "source": [
    "### Análisis exploratorio"
   ]
  },
  {
   "cell_type": "code",
   "execution_count": 1,
   "id": "d60e36b3",
   "metadata": {},
   "outputs": [],
   "source": [
    "##depende del dataset/ observar variables, crear un dataset de items y users"
   ]
  },
  {
   "cell_type": "markdown",
   "id": "cc497546",
   "metadata": {},
   "source": [
    "### Preparación del modelo"
   ]
  },
  {
   "cell_type": "markdown",
   "id": "7819320e",
   "metadata": {},
   "source": [
    "#### Matrices sparsed"
   ]
  },
  {
   "cell_type": "code",
   "execution_count": null,
   "id": "53342f27",
   "metadata": {},
   "outputs": [],
   "source": [
    "#creamos la matriz sparsed\n",
    "import numpy as np\n",
    "n_users = df.UserID.unique().shape[0]\n",
    "\n",
    "n_items = df.ItemID.unique().shape[0]\n",
    "\n",
    "ratings = np.zeros((n_users, n_items))\n",
    "\n",
    "#transformación a matriz sparsed\n",
    "for row in df.itertuples():\n",
    "    ratings[row[1]-1, row[2]-1] = row[3]\n",
    "    \n",
    "#coef. d sparseidad, número de elementos que no tienen ceros (%)\n",
    "sparsity = float(len(ratings.nonzero()[0]))\n",
    "sparsity /= (ratings.shape[0]*ratings.shape[1])\n",
    "sparsity *= 100\n",
    "print(\"Coeficiente de sparseidad: {:4.2f}%\".format(sparsity))"
   ]
  },
  {
   "cell_type": "markdown",
   "id": "7d28366f",
   "metadata": {},
   "source": [
    "#### División del dataset"
   ]
  },
  {
   "cell_type": "code",
   "execution_count": null,
   "id": "f9d314e2",
   "metadata": {},
   "outputs": [],
   "source": [
    "from sklearn.model_selection import train_test_split\n",
    "ratings_train, ratings_test = train_test_split(ratings, test_size = 0.3, random_state=42)"
   ]
  },
  {
   "cell_type": "markdown",
   "id": "96c234aa",
   "metadata": {},
   "source": [
    "### Matriz de similaridad"
   ]
  },
  {
   "cell_type": "code",
   "execution_count": null,
   "id": "9dc4163d",
   "metadata": {},
   "outputs": [],
   "source": [
    "import numpy as np\n",
    "import sklearn\n",
    "\n",
    "#por ser distancia del coseno hay que transformarla a 1-cosin\n",
    "sim_matrix = 1 - sklearn.metrics.pairwise.cosine_distances(ratings_train)\n",
    "\n",
    "users_predictions = sim_matrix.dot(ratings_train) / np.array([np.abs(sim_matrix).sum(axis=1)]).T\n",
    "#prod matricial sim_matrix*rating_trains/ ponderación por los usuarios de la misma fila"
   ]
  },
  {
   "cell_type": "code",
   "execution_count": null,
   "id": "dfddb44f",
   "metadata": {},
   "outputs": [],
   "source": [
    "#función para obtener el MeanSquaredError\n",
    "from sklearn.metrics import mean_squared_error\n",
    "\n",
    "def get_mse(preds, actuals):\n",
    "    if preds.shape[0] != actuals.shape[0]:\n",
    "        actuals = actuals.T\n",
    "    preds = preds[actuals.nonzero()].flatten()\n",
    "    actuals = actuals[actuals.nonzero()].flatten()\n",
    "    return mean_squared_error(preds, actuals)\n",
    "\n",
    "get_mse(users_predictions, ratings_train)"
   ]
  },
  {
   "cell_type": "code",
   "execution_count": null,
   "id": "3a9d179e",
   "metadata": {},
   "outputs": [],
   "source": [
    "sim_matrix = 1 - sklearn.metrics.pairwise.cosine_distances(ratings_test)\n",
    "users_predictions = sim_matrix.dot(ratings_test) / np.array([np.abs(sim_matrix).sum(axis=1)]).T\n",
    "get_mse(users_predictions, ratings_test)"
   ]
  },
  {
   "cell_type": "markdown",
   "id": "c31e6dbb",
   "metadata": {},
   "source": [
    "### Filtro colaborativo KNN"
   ]
  },
  {
   "cell_type": "code",
   "execution_count": null,
   "id": "58bd6cc2",
   "metadata": {},
   "outputs": [],
   "source": [
    "from sklearn.neighbors import NearestNeighbors"
   ]
  },
  {
   "cell_type": "code",
   "execution_count": null,
   "id": "d4df463e",
   "metadata": {},
   "outputs": [],
   "source": [
    "k=5\n",
    "neighbors = NearestNeighbors(k, 'cosine')\n",
    "neighbors.fit(ratings_train)\n",
    "\n",
    "top_k_distances, top_k_users = neighbors.kneighbors(ratings_train, return_distance=True)"
   ]
  },
  {
   "cell_type": "code",
   "execution_count": null,
   "id": "133b8d6d",
   "metadata": {},
   "outputs": [],
   "source": [
    "users_predicts_k = np.zeros(ratings_train.shape)\n",
    "\n",
    "for i in range(ratings_train.shape[0]):# para cada usuario del conjunto de entrenamiento\n",
    "    users_predicts_k[i,:] = top_k_distances[i].T.dot(ratings_train[top_k_users][i]) / np.array([np.abs(top_k_distances[i].T).sum(axis=0)]).T"
   ]
  },
  {
   "cell_type": "code",
   "execution_count": null,
   "id": "53babee4",
   "metadata": {},
   "outputs": [],
   "source": [
    "get_mse(users_predicts_k, ratings_train)"
   ]
  },
  {
   "cell_type": "code",
   "execution_count": null,
   "id": "fbd7abb2",
   "metadata": {},
   "outputs": [],
   "source": [
    "users_predicts_k = np.zeros(ratings_test.shape)\n",
    "\n",
    "for i in range(ratings_test.shape[0]):# para cada usuario del conjunto de test\n",
    "\n",
    "    users_predicts_k[i,:] = top_k_distances[i].T.dot(ratings_test[top_k_users][i]) / np.array([np.abs(top_k_distances[i].T).sum(axis=0)]).T\n",
    "\n",
    "get_mse(users_predicts_k, ratings_test)"
   ]
  },
  {
   "cell_type": "markdown",
   "id": "c168c1f1",
   "metadata": {},
   "source": [
    "## Filtro colaborativo basado en Items"
   ]
  },
  {
   "cell_type": "markdown",
   "id": "fdd4523b",
   "metadata": {},
   "source": [
    "neighbors = NearestNeighbors(n_movies, 'cosine')\n",
    "neighbors.fit(ratings_train.T)\n",
    "top_k_distances, top_k_items = neighbors.kneighbors(ratings_train.T, return_distance=True)"
   ]
  },
  {
   "cell_type": "code",
   "execution_count": null,
   "id": "dda01cb9",
   "metadata": {},
   "outputs": [],
   "source": [
    "item_preds = ratings_train.dot(top_k_distances) / np.array([np.abs(top_k_distances).sum(axis=1)])\n",
    "get_mse(item_preds, ratings_train)"
   ]
  },
  {
   "cell_type": "code",
   "execution_count": null,
   "id": "121bdf95",
   "metadata": {},
   "outputs": [],
   "source": [
    "get_mse(item_preds, ratings_test)"
   ]
  },
  {
   "cell_type": "code",
   "execution_count": null,
   "id": "f09cbee7",
   "metadata": {},
   "outputs": [],
   "source": []
  },
  {
   "cell_type": "code",
   "execution_count": null,
   "id": "1e10fd36",
   "metadata": {},
   "outputs": [],
   "source": []
  },
  {
   "cell_type": "code",
   "execution_count": null,
   "id": "bafd70ca",
   "metadata": {},
   "outputs": [],
   "source": []
  }
 ],
 "metadata": {
  "kernelspec": {
   "display_name": "Python 3",
   "language": "python",
   "name": "python3"
  },
  "language_info": {
   "codemirror_mode": {
    "name": "ipython",
    "version": 3
   },
   "file_extension": ".py",
   "mimetype": "text/x-python",
   "name": "python",
   "nbconvert_exporter": "python",
   "pygments_lexer": "ipython3",
   "version": "3.8.8"
  }
 },
 "nbformat": 4,
 "nbformat_minor": 5
}
