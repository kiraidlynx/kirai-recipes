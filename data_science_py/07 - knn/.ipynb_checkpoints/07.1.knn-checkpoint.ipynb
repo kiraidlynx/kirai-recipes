{
 "cells": [
  {
   "cell_type": "markdown",
   "id": "2b7f7ee7",
   "metadata": {},
   "source": [
    "## k nearest neighbors"
   ]
  },
  {
   "cell_type": "code",
   "execution_count": null,
   "id": "a996cbda",
   "metadata": {},
   "outputs": [],
   "source": [
    "## Creación del modelo de clasificación\n",
    "\n",
    "import numpy as np\n",
    "from sklearn import preprocessing, neighbors\n",
    "from sklearn. model_selection import cross_val_score\n",
    "import pandas as pd\n",
    "\n",
    "X_train, X_test, Y_train, Y_test = cross_validation.train_test_split(X, Y, test_size=0.2)\n",
    "\n",
    "clf = neighbors.KNeighborsClassifier()\n",
    "\n",
    "clf.fit(X_train, Y_train)\n",
    "\n",
    "accuracy = clf.score(X_test, Y_test)\n",
    "accuracy"
   ]
  },
  {
   "cell_type": "code",
   "execution_count": null,
   "id": "8ed1a65b",
   "metadata": {},
   "outputs": [],
   "source": [
    "## Clasificar nuevos elementos\n",
    "#muestra a clasificar = sample_measure \n",
    "\n",
    "sample_measure = sample_measure.reshape(1,-1)\n",
    "predict = clf.predict(sample_measure)\n",
    "predict"
   ]
  },
  {
   "cell_type": "markdown",
   "id": "8cb7f25b",
   "metadata": {},
   "source": [
    "### Implementación manual knn"
   ]
  },
  {
   "cell_type": "code",
   "execution_count": null,
   "id": "c504e39d",
   "metadata": {},
   "outputs": [],
   "source": [
    "def k_nearest_neighbors(data, predict, k = 3, verbose = False):\n",
    "    \n",
    "    if len(data) >= k:\n",
    "        warnings.warn(\"K es un valor menor que el número total de elementos a votar!!\")\n",
    "    \n",
    "    distances = []\n",
    "    #tienen que venir ya clasificados con k-means,k-medoids,etc...\n",
    "    for group in data:\n",
    "        for feature in data[group]:\n",
    "            #d = sqrt((feature[0]-predict[0])**2 + (feature[1]-predict[1])**2)\n",
    "            #d = np.sqrt(np.sum((np.array(feature) - np.array(predict))**2))\n",
    "            d = np.linalg.norm(np.array(feature) - np.array(predict))\n",
    "            distances.append([d, group])\n",
    "    #verbose: variable que se utiliza para hacer print\n",
    "    if verbose:\n",
    "        print(distances)\n",
    "    \n",
    "    votes = [i[1] for i in sorted(distances)[:k]]#sorted ordena por la primera columna (distancia)\n",
    "    if verbose:\n",
    "        print(votes)\n",
    "    \n",
    "    vote_result = Counter(votes).most_common(1)\n",
    "    if verbose:\n",
    "        print(vote_result)\n",
    "    \n",
    "    \n",
    "    return vote_result[0][0]#[('r',2), ('k', 1)]\n",
    "\n"
   ]
  },
  {
   "cell_type": "code",
   "execution_count": null,
   "id": "d2c81ac9",
   "metadata": {},
   "outputs": [],
   "source": [
    "result = k_nearest_neighbors(dataset, [new_point])"
   ]
  }
 ],
 "metadata": {
  "kernelspec": {
   "display_name": "Python 3",
   "language": "python",
   "name": "python3"
  },
  "language_info": {
   "codemirror_mode": {
    "name": "ipython",
    "version": 3
   },
   "file_extension": ".py",
   "mimetype": "text/x-python",
   "name": "python",
   "nbconvert_exporter": "python",
   "pygments_lexer": "ipython3",
   "version": "3.8.8"
  }
 },
 "nbformat": 4,
 "nbformat_minor": 5
}
