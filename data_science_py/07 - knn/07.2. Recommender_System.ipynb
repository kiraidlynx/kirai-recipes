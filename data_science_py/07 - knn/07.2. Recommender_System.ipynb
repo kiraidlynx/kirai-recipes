{
 "cells": [
  {
   "cell_type": "markdown",
   "id": "d9cff46d",
   "metadata": {},
   "source": [
    "## Sistemas de recomendación"
   ]
  },
  {
   "cell_type": "markdown",
   "id": "29f0c0a4",
   "metadata": {},
   "source": [
    "### Análisis exploratorio"
   ]
  },
  {
   "cell_type": "code",
   "execution_count": 1,
   "id": "aa70f981",
   "metadata": {},
   "outputs": [],
   "source": [
    "##depende del dataset/ observar variables, crear un dataset de items y users"
   ]
  },
  {
   "cell_type": "markdown",
   "id": "8ab56a99",
   "metadata": {},
   "source": [
    "### Preparación del modelo"
   ]
  },
  {
   "cell_type": "markdown",
   "id": "e825aad7",
   "metadata": {},
   "source": [
    "#### Matrices sparsed"
   ]
  },
  {
   "cell_type": "code",
   "execution_count": null,
   "id": "05250c76",
   "metadata": {},
   "outputs": [],
   "source": [
    "#creamos la matriz sparsed\n",
    "import numpy as np\n",
    "n_users = df.UserID.unique().shape[0]\n",
    "\n",
    "n_items = df.ItemID.unique().shape[0]\n",
    "\n",
    "ratings = np.zeros((n_users, n_items))\n",
    "\n",
    "#transformación a matriz sparsed\n",
    "for row in df.itertuples():\n",
    "    ratings[row[1]-1, row[2]-1] = row[3]\n",
    "    \n",
    "#coef. d sparseidad, número de elementos que no tienen ceros (%)\n",
    "sparsity = float(len(ratings.nonzero()[0]))\n",
    "sparsity /= (ratings.shape[0]*ratings.shape[1])\n",
    "sparsity *= 100\n",
    "print(\"Coeficiente de sparseidad: {:4.2f}%\".format(sparsity))"
   ]
  },
  {
   "cell_type": "markdown",
   "id": "5e57dc63",
   "metadata": {},
   "source": [
    "#### División del dataset"
   ]
  },
  {
   "cell_type": "code",
   "execution_count": null,
   "id": "f8e13628",
   "metadata": {},
   "outputs": [],
   "source": [
    "from sklearn.model_selection import train_test_split\n",
    "ratings_train, ratings_test = train_test_split(ratings, test_size = 0.3, random_state=42)"
   ]
  },
  {
   "cell_type": "markdown",
   "id": "d68042f6",
   "metadata": {},
   "source": [
    "### Matriz de similaridad"
   ]
  },
  {
   "cell_type": "code",
   "execution_count": null,
   "id": "97ef1358",
   "metadata": {},
   "outputs": [],
   "source": [
    "import numpy as np\n",
    "import sklearn\n",
    "\n",
    "#por ser distancia del coseno hay que transformarla a 1-cosin\n",
    "sim_matrix = 1 - sklearn.metrics.pairwise.cosine_distances(ratings_train)\n",
    "\n",
    "users_predictions = sim_matrix.dot(ratings_train) / np.array([np.abs(sim_matrix).sum(axis=1)]).T\n",
    "#prod matricial sim_matrix*rating_trains/ ponderación por los usuarios de la misma fila"
   ]
  },
  {
   "cell_type": "code",
   "execution_count": null,
   "id": "0e48f078",
   "metadata": {},
   "outputs": [],
   "source": [
    "#función para obtener el MeanSquaredError\n",
    "from sklearn.metrics import mean_squared_error\n",
    "\n",
    "def get_mse(preds, actuals):\n",
    "    if preds.shape[0] != actuals.shape[0]:\n",
    "        actuals = actuals.T\n",
    "    preds = preds[actuals.nonzero()].flatten()\n",
    "    actuals = actuals[actuals.nonzero()].flatten()\n",
    "    return mean_squared_error(preds, actuals)\n",
    "\n",
    "get_mse(users_predictions, ratings_train)"
   ]
  },
  {
   "cell_type": "code",
   "execution_count": null,
   "id": "81f9c76a",
   "metadata": {},
   "outputs": [],
   "source": [
    "sim_matrix = 1 - sklearn.metrics.pairwise.cosine_distances(ratings_test)\n",
    "users_predictions = sim_matrix.dot(ratings_test) / np.array([np.abs(sim_matrix).sum(axis=1)]).T\n",
    "get_mse(users_predictions, ratings_test)"
   ]
  },
  {
   "cell_type": "markdown",
   "id": "c86ba66f",
   "metadata": {},
   "source": [
    "### Filtro colaborativo KNN"
   ]
  },
  {
   "cell_type": "code",
   "execution_count": null,
   "id": "eeb0839c",
   "metadata": {},
   "outputs": [],
   "source": [
    "from sklearn.neighbors import NearestNeighbors"
   ]
  },
  {
   "cell_type": "code",
   "execution_count": null,
   "id": "4ac2a761",
   "metadata": {},
   "outputs": [],
   "source": [
    "k=5\n",
    "neighbors = NearestNeighbors(k, 'cosine')\n",
    "neighbors.fit(ratings_train)\n",
    "\n",
    "top_k_distances, top_k_users = neighbors.kneighbors(ratings_train, return_distance=True)"
   ]
  },
  {
   "cell_type": "code",
   "execution_count": null,
   "id": "499a1564",
   "metadata": {},
   "outputs": [],
   "source": [
    "users_predicts_k = np.zeros(ratings_train.shape)\n",
    "\n",
    "for i in range(ratings_train.shape[0]):# para cada usuario del conjunto de entrenamiento\n",
    "    users_predicts_k[i,:] = top_k_distances[i].T.dot(ratings_train[top_k_users][i]) / np.array([np.abs(top_k_distances[i].T).sum(axis=0)]).T"
   ]
  },
  {
   "cell_type": "code",
   "execution_count": null,
   "id": "932f9dd9",
   "metadata": {},
   "outputs": [],
   "source": [
    "get_mse(users_predicts_k, ratings_train)"
   ]
  },
  {
   "cell_type": "code",
   "execution_count": null,
   "id": "6360b6e2",
   "metadata": {},
   "outputs": [],
   "source": [
    "users_predicts_k = np.zeros(ratings_test.shape)\n",
    "\n",
    "for i in range(ratings_test.shape[0]):# para cada usuario del conjunto de test\n",
    "\n",
    "    users_predicts_k[i,:] = top_k_distances[i].T.dot(ratings_test[top_k_users][i]) / np.array([np.abs(top_k_distances[i].T).sum(axis=0)]).T\n",
    "\n",
    "get_mse(users_predicts_k, ratings_test)"
   ]
  },
  {
   "cell_type": "markdown",
   "id": "3b5cd4c7",
   "metadata": {},
   "source": [
    "## Filtro colaborativo basado en Items"
   ]
  },
  {
   "cell_type": "markdown",
   "id": "7518b299",
   "metadata": {},
   "source": [
    "neighbors = NearestNeighbors(n_movies, 'cosine')\n",
    "neighbors.fit(ratings_train.T)\n",
    "top_k_distances, top_k_items = neighbors.kneighbors(ratings_train.T, return_distance=True)"
   ]
  },
  {
   "cell_type": "code",
   "execution_count": null,
   "id": "66e5c631",
   "metadata": {},
   "outputs": [],
   "source": [
    "item_preds = ratings_train.dot(top_k_distances) / np.array([np.abs(top_k_distances).sum(axis=1)])\n",
    "get_mse(item_preds, ratings_train)"
   ]
  },
  {
   "cell_type": "code",
   "execution_count": null,
   "id": "4f35347e",
   "metadata": {},
   "outputs": [],
   "source": [
    "get_mse(item_preds, ratings_test)"
   ]
  },
  {
   "cell_type": "markdown",
   "id": "60c0e034",
   "metadata": {},
   "source": [
    "### Filtro colaborativo basado en KNN"
   ]
  },
  {
   "cell_type": "code",
   "execution_count": null,
   "id": "42bb11c6",
   "metadata": {},
   "outputs": [],
   "source": []
  },
  {
   "cell_type": "code",
   "execution_count": null,
   "id": "ba95b8bf",
   "metadata": {},
   "outputs": [],
   "source": []
  }
 ],
 "metadata": {
  "kernelspec": {
   "display_name": "Python 3",
   "language": "python",
   "name": "python3"
  },
  "language_info": {
   "codemirror_mode": {
    "name": "ipython",
    "version": 3
   },
   "file_extension": ".py",
   "mimetype": "text/x-python",
   "name": "python",
   "nbconvert_exporter": "python",
   "pygments_lexer": "ipython3",
   "version": "3.8.8"
  }
 },
 "nbformat": 4,
 "nbformat_minor": 5
}
