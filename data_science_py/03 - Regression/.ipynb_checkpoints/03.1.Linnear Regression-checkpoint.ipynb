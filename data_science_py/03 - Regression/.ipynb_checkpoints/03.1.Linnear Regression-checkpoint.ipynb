{
 "cells": [
  {
   "cell_type": "markdown",
   "id": "357cb9ba",
   "metadata": {},
   "source": [
    "## Regresión lineal paso a paso"
   ]
  },
  {
   "cell_type": "markdown",
   "id": "6ee52595",
   "metadata": {},
   "source": [
    "####  Statsmodels"
   ]
  },
  {
   "cell_type": "code",
   "execution_count": null,
   "id": "73bafc44",
   "metadata": {},
   "outputs": [],
   "source": [
    "import pandas as pd\n",
    "#data"
   ]
  },
  {
   "cell_type": "code",
   "execution_count": 1,
   "id": "993e2f3e",
   "metadata": {},
   "outputs": [],
   "source": [
    "import statsmodels.formula.api as smf\n",
    "\n",
    "lm=smf.ols(formula=\"y~x\", data=data).fit()\n",
    "lm.params #Intercept, X, dtype\n",
    "lm.pvalues #p-value por parámetro\n",
    "lm.rsquared #r^2\n",
    "lm.rsquared_adj #r^2 adj\n",
    "lm.summary() #resumen de todos los coeficientes"
   ]
  },
  {
   "cell_type": "code",
   "execution_count": null,
   "id": "e43e2c92",
   "metadata": {},
   "outputs": [],
   "source": [
    "y_pred=lm.predict(pd.DataFrame(data[\"column\"])) #hay que generar un DF del vector"
   ]
  },
  {
   "cell_type": "code",
   "execution_count": null,
   "id": "82cc55b2",
   "metadata": {},
   "outputs": [],
   "source": [
    "import matplotlib.pyplot as plt\n",
    "%matplotlib inline\n",
    "data.plot(kind=\"scatter\", x=\"x_value\", y=\"y_act\")\n",
    "plt.plot(kind=\"scatter\", x=pd.DataFrame(data[\"column\"]), y=\"y_pred\")"
   ]
  },
  {
   "cell_type": "code",
   "execution_count": null,
   "id": "8bb25b9f",
   "metadata": {},
   "outputs": [],
   "source": [
    "data[\"y_pred\"] = 7.032594 + 0.047537*data[\"column\"]\n",
    "data[\"RSE\"] = (data[\"y_act\"]-data[\"y_pred\"])**2\n",
    "SSD = sum(data[\"RSE\"])\n",
    "RSE = np.sqrt(SSD/(len(data)-2))\n",
    "sales_m = np.mean(data[\"y_act\"])\n",
    "error = RSE/sales_m ##porcentaje que no es capaz de explicar mi modelo\n",
    "plt.hist((data[\"y_act\"]-data[\"y_pred\"])) #hist de errores, debe ser gaussiano"
   ]
  },
  {
   "cell_type": "markdown",
   "id": "8a1efd3f",
   "metadata": {},
   "source": [
    "### Regresión lineal múltiple"
   ]
  },
  {
   "cell_type": "markdown",
   "id": "48a51aa6",
   "metadata": {},
   "source": [
    "####  Statsmodels"
   ]
  },
  {
   "cell_type": "code",
   "execution_count": null,
   "id": "97e7edba",
   "metadata": {},
   "outputs": [],
   "source": [
    "lm_mult = smf.ols(formula=\"y~x1+x2+x3\", data = data).fit()\n",
    "#mismo proceso\n",
    "#RSE = np.sqrt(SSD/(len(data)-n-1)) n=número de predictores\n",
    "#multicolinealidad: solución con ACP"
   ]
  },
  {
   "cell_type": "markdown",
   "id": "0d3a920a",
   "metadata": {},
   "source": [
    "### Validación del modelo"
   ]
  },
  {
   "cell_type": "code",
   "execution_count": null,
   "id": "0962f756",
   "metadata": {},
   "outputs": [],
   "source": [
    "from sklearn.model_selection import train_test_split\n",
    "train, test = train_test_split(data, test_size = 0.2)\n",
    "\n",
    "import statsmodels.formula.api as smf\n",
    "lm = smf.ols(formula=\"y~x1+x2\", data=training).fit()\n",
    "\n",
    "y_pred = lm.predict(testing)\n",
    "\n",
    "#calculo de parámetros\n",
    "SSD = sum((testing[\"y\"]-y_pred)**2)\n",
    "RSE = np.sqrt(SSD/(len(testing)-2-1))\n",
    "sales_mean = np.mean(testing[\"y\"])\n",
    "error = RSE/sales_mean"
   ]
  },
  {
   "cell_type": "markdown",
   "id": "8565a67f",
   "metadata": {},
   "source": [
    "## Linnear regression - Scikit-learn"
   ]
  },
  {
   "cell_type": "code",
   "execution_count": null,
   "id": "6f84112d",
   "metadata": {},
   "outputs": [],
   "source": [
    "#Automatización completa de la regresión\n",
    "\n",
    "from sklearn.feature_selection import RFE \n",
    "from sklearn.svm import SVR #support vector machine\n",
    "import pandas as pd\n",
    "import numpy as np\n",
    "\n",
    "data\n",
    "feature_cols = [\"x1\", \"x2\", \"x3\"]\n",
    "\n",
    "#separar del dataset las variables predictoras del target\n",
    "X = data[feature_cols]\n",
    "Y = data[\"y_act\"]"
   ]
  },
  {
   "cell_type": "code",
   "execution_count": null,
   "id": "bde5a0da",
   "metadata": {},
   "outputs": [],
   "source": [
    "#creación de modelo\n",
    "estimator = SVR(kernel=\"linear\")\n",
    "selector = RFE(estimator, n_features_to_select=2, step=1) #2 variables y en un paso\n",
    "selector = selector.fit(X,Y)"
   ]
  },
  {
   "cell_type": "code",
   "execution_count": null,
   "id": "5abf44ba",
   "metadata": {},
   "outputs": [],
   "source": [
    "selector.support_ #predictores seleccionados en TRUE\n",
    "selector.ranking_ #orden decreciente en función de significatividad"
   ]
  },
  {
   "cell_type": "markdown",
   "id": "5de08c4b",
   "metadata": {},
   "source": [
    "### Sklearn.linear_model"
   ]
  },
  {
   "cell_type": "code",
   "execution_count": null,
   "id": "e2668892",
   "metadata": {},
   "outputs": [],
   "source": [
    "### from sklearn.linear_model import LinearRegression\n",
    "\n",
    "#lm implementado\n",
    "X_pred = X[[\"x1\", \"x2\"]]\n",
    "lm = LinearRegression()\n",
    "lm.fit(X_pred, Y)\n",
    "\n",
    "#coeficientes\n",
    "lm.intercept_\n",
    "lm.coef_\n",
    "lm.score(X_pred, Y)\n",
    "\n",
    "#y_pred = lm.predict(testing)"
   ]
  },
  {
   "cell_type": "markdown",
   "id": "350a1b76",
   "metadata": {},
   "source": [
    "## LM con variables categóricas"
   ]
  },
  {
   "cell_type": "code",
   "execution_count": null,
   "id": "b616c2d9",
   "metadata": {},
   "outputs": [],
   "source": [
    "import pandas as pd\n",
    "import numpy as np\n",
    "from sklearn.linear_model import LinearRegression\n",
    "\n",
    "df=data"
   ]
  },
  {
   "cell_type": "code",
   "execution_count": null,
   "id": "fe93cef0",
   "metadata": {},
   "outputs": [],
   "source": [
    "#Pasar las variables categóricas a dummies\n",
    "dummy_gender = pd.get_dummies(df[\"Gender\"], prefix = \"Gender\")\n",
    "dummy_city_tier = pd.get_dummies(df[\"City Tier\"], prefix = \"City\")"
   ]
  },
  {
   "cell_type": "markdown",
   "id": "fc2cb4b6",
   "metadata": {},
   "source": [
    "### Eliminar variables dummies redundantes"
   ]
  },
  {
   "cell_type": "code",
   "execution_count": null,
   "id": "cdbf542e",
   "metadata": {},
   "outputs": [],
   "source": [
    "#usar .iloc[:,1:] para eliminar la 0-ésima columna\n",
    "dummy_gender = pd.get_dummies(df[\"Gender\"], prefix=\"Gender\").iloc[:,1:] \n",
    "dummy_city_tier = pd.get_dummies(df[\"City Tier\"], prefix=\"City\").iloc[:,1:] "
   ]
  },
  {
   "cell_type": "code",
   "execution_count": null,
   "id": "864f1bc6",
   "metadata": {},
   "outputs": [],
   "source": [
    "#Añadimos las variables dummies al DF original\n",
    "column_names = df.columns.values.tolist()\n",
    "df_new = df[column_names].join(dummy_gender)\n",
    "column_names = df_new.columns.values.tolist()\n",
    "df_new = df_new[column_names].join(dummy_city_tier)"
   ]
  },
  {
   "cell_type": "code",
   "execution_count": null,
   "id": "c6c107fa",
   "metadata": {},
   "outputs": [],
   "source": [
    "#Separar las variables predictoras de la target\n",
    "\n",
    "feature_cols = [\"Monthly Income\", \"Transaction Time\", \n",
    "                \"Gender_Female\", \"Gender_Male\", \n",
    "                \"City_Tier 1\", \"City_Tier 2\", \"City_Tier 3\",\n",
    "                \"Record\"]\n",
    "\n",
    "X = df_new[feature_cols]\n",
    "Y = df_new[\"Total Spend\"]"
   ]
  },
  {
   "cell_type": "code",
   "execution_count": null,
   "id": "b10fecec",
   "metadata": {},
   "outputs": [],
   "source": [
    "lm = LinearRegression()\n",
    "lm.fit(X,Y)\n",
    "\n",
    "#lista de coeficientes\n",
    "list(zip(feature_cols, lm.coef_)) #zip: método para juntar valores\n",
    "lm.score(X,Y)\n",
    "\n",
    "#df_new[\"prediction\"] = lm.predict(pd.DataFrame(df_new[feature_cols]))"
   ]
  },
  {
   "cell_type": "markdown",
   "id": "26506d6d",
   "metadata": {},
   "source": [
    "### Conversión a No lineal"
   ]
  },
  {
   "cell_type": "code",
   "execution_count": null,
   "id": "d1875071",
   "metadata": {},
   "outputs": [],
   "source": [
    "X = data_auto[\"x1\"].fillna(data_auto[\"x1\"].mean()).to_numpy()\n",
    "Y = data_auto[\"y_act\"].fillna(data_auto[\"y_act\"].mean())\n",
    "\n",
    "##Modelo cuadrático: X=X**2 para hacerlo manual\n",
    "##X_data = X[:,np.newaxis] para pasar tipo de dato a DF, necesario para el lm\n",
    "\n",
    "#Modelo polinómico\n",
    "from sklearn.preprocessing import PolynomialFeatures\n",
    "from sklearn import linear_model\n",
    "\n",
    "#Hay que generar un polinomio de la variable predictora de grado n\n",
    "poly = PolynomialFeatures(degree=2)\n",
    "#X es un vector y debe pasarse a formato DF\n",
    "X = np.asarray(X)\n",
    "X_data = poly.fit_transform(X[:,np.newaxis])\n",
    "\n",
    "#Se invoca el método lm.fit sobre el polinomio de grado n generado para el ajuste\n",
    "lm = linear_model.LinearRegression()\n",
    "lm.fit(X_data, Y)"
   ]
  },
  {
   "cell_type": "markdown",
   "id": "6d7e8abc",
   "metadata": {},
   "source": [
    "## Función: validación de regresión"
   ]
  },
  {
   "cell_type": "code",
   "execution_count": null,
   "id": "f8477b17",
   "metadata": {},
   "outputs": [],
   "source": [
    "# Devuelve los parámetros del ajuste\n",
    "def regresion_validation(X_data, Y, Y_pred):\n",
    "    SSD = np.sum((Y - Y_pred)**2)\n",
    "    RSE = np.sqrt(SSD/(len(X_data)-1))\n",
    "    y_mean = np.mean(Y)\n",
    "    error = RSE/y_mean\n",
    "    print(\"SSD: \"+str(SSD)+\", RSE: \" +str(RSE) + \", Y_mean: \" +str(y_mean) +\", error: \" + str(error*100)+ \"%\")"
   ]
  },
  {
   "cell_type": "code",
   "execution_count": null,
   "id": "3d144c95",
   "metadata": {},
   "outputs": [],
   "source": [
    "for d in range(2,12):\n",
    "    poly = PolynomialFeatures(degree=d)\n",
    "    X_data = poly.fit_transform(X[:,np.newaxis])\n",
    "    lm = linear_model.LinearRegression()\n",
    "    lm.fit(X_data, Y)\n",
    "    print(\"Regresión de grado \"+str(d))\n",
    "    print(\"R2:\" +str(lm.score(X_data, Y)))\n",
    "    print(lm.intercept_)\n",
    "    print(lm.coef_)\n",
    "    regresion_validation(X_data, Y, lm.predict(X_data))"
   ]
  }
 ],
 "metadata": {
  "kernelspec": {
   "display_name": "Python 3",
   "language": "python",
   "name": "python3"
  },
  "language_info": {
   "codemirror_mode": {
    "name": "ipython",
    "version": 3
   },
   "file_extension": ".py",
   "mimetype": "text/x-python",
   "name": "python",
   "nbconvert_exporter": "python",
   "pygments_lexer": "ipython3",
   "version": "3.8.8"
  }
 },
 "nbformat": 4,
 "nbformat_minor": 5
}
