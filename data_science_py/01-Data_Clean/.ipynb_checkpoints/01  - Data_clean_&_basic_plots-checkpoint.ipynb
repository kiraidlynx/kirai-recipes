{
 "cells": [
  {
   "cell_type": "code",
   "execution_count": 9,
   "id": "b77e4049",
   "metadata": {},
   "outputs": [],
   "source": [
    "##AUTOCOMPLETAR\n",
    "%config IPCompleter.greedy=True\n",
    "##pandas.read_cvs(r\"C:\\user\\df.cvs\") para leer"
   ]
  },
  {
   "cell_type": "markdown",
   "id": "dab52c9e",
   "metadata": {},
   "source": [
    "# Carga de datos"
   ]
  },
  {
   "cell_type": "code",
   "execution_count": 17,
   "id": "2115b529",
   "metadata": {},
   "outputs": [
    {
     "data": {
      "text/html": [
       "<div>\n",
       "<style scoped>\n",
       "    .dataframe tbody tr th:only-of-type {\n",
       "        vertical-align: middle;\n",
       "    }\n",
       "\n",
       "    .dataframe tbody tr th {\n",
       "        vertical-align: top;\n",
       "    }\n",
       "\n",
       "    .dataframe thead th {\n",
       "        text-align: right;\n",
       "    }\n",
       "</style>\n",
       "<table border=\"1\" class=\"dataframe\">\n",
       "  <thead>\n",
       "    <tr style=\"text-align: right;\">\n",
       "      <th></th>\n",
       "      <th>pclass</th>\n",
       "      <th>survived</th>\n",
       "      <th>name</th>\n",
       "      <th>sex</th>\n",
       "      <th>age</th>\n",
       "      <th>sibsp</th>\n",
       "      <th>parch</th>\n",
       "      <th>ticket</th>\n",
       "      <th>fare</th>\n",
       "      <th>cabin</th>\n",
       "      <th>embarked</th>\n",
       "      <th>boat</th>\n",
       "      <th>body</th>\n",
       "      <th>home.dest</th>\n",
       "    </tr>\n",
       "  </thead>\n",
       "  <tbody>\n",
       "    <tr>\n",
       "      <th>0</th>\n",
       "      <td>1</td>\n",
       "      <td>1</td>\n",
       "      <td>Allen, Miss. Elisabeth Walton</td>\n",
       "      <td>female</td>\n",
       "      <td>29.0000</td>\n",
       "      <td>0</td>\n",
       "      <td>0</td>\n",
       "      <td>24160</td>\n",
       "      <td>211.3375</td>\n",
       "      <td>B5</td>\n",
       "      <td>S</td>\n",
       "      <td>2</td>\n",
       "      <td>NaN</td>\n",
       "      <td>St Louis, MO</td>\n",
       "    </tr>\n",
       "    <tr>\n",
       "      <th>1</th>\n",
       "      <td>1</td>\n",
       "      <td>1</td>\n",
       "      <td>Allison, Master. Hudson Trevor</td>\n",
       "      <td>male</td>\n",
       "      <td>0.9167</td>\n",
       "      <td>1</td>\n",
       "      <td>2</td>\n",
       "      <td>113781</td>\n",
       "      <td>151.5500</td>\n",
       "      <td>C22 C26</td>\n",
       "      <td>S</td>\n",
       "      <td>11</td>\n",
       "      <td>NaN</td>\n",
       "      <td>Montreal, PQ / Chesterville, ON</td>\n",
       "    </tr>\n",
       "    <tr>\n",
       "      <th>2</th>\n",
       "      <td>1</td>\n",
       "      <td>0</td>\n",
       "      <td>Allison, Miss. Helen Loraine</td>\n",
       "      <td>female</td>\n",
       "      <td>2.0000</td>\n",
       "      <td>1</td>\n",
       "      <td>2</td>\n",
       "      <td>113781</td>\n",
       "      <td>151.5500</td>\n",
       "      <td>C22 C26</td>\n",
       "      <td>S</td>\n",
       "      <td>NaN</td>\n",
       "      <td>NaN</td>\n",
       "      <td>Montreal, PQ / Chesterville, ON</td>\n",
       "    </tr>\n",
       "    <tr>\n",
       "      <th>3</th>\n",
       "      <td>1</td>\n",
       "      <td>0</td>\n",
       "      <td>Allison, Mr. Hudson Joshua Creighton</td>\n",
       "      <td>male</td>\n",
       "      <td>30.0000</td>\n",
       "      <td>1</td>\n",
       "      <td>2</td>\n",
       "      <td>113781</td>\n",
       "      <td>151.5500</td>\n",
       "      <td>C22 C26</td>\n",
       "      <td>S</td>\n",
       "      <td>NaN</td>\n",
       "      <td>135.0</td>\n",
       "      <td>Montreal, PQ / Chesterville, ON</td>\n",
       "    </tr>\n",
       "    <tr>\n",
       "      <th>4</th>\n",
       "      <td>1</td>\n",
       "      <td>0</td>\n",
       "      <td>Allison, Mrs. Hudson J C (Bessie Waldo Daniels)</td>\n",
       "      <td>female</td>\n",
       "      <td>25.0000</td>\n",
       "      <td>1</td>\n",
       "      <td>2</td>\n",
       "      <td>113781</td>\n",
       "      <td>151.5500</td>\n",
       "      <td>C22 C26</td>\n",
       "      <td>S</td>\n",
       "      <td>NaN</td>\n",
       "      <td>NaN</td>\n",
       "      <td>Montreal, PQ / Chesterville, ON</td>\n",
       "    </tr>\n",
       "  </tbody>\n",
       "</table>\n",
       "</div>"
      ],
      "text/plain": [
       "   pclass  survived                                             name     sex  \\\n",
       "0       1         1                    Allen, Miss. Elisabeth Walton  female   \n",
       "1       1         1                   Allison, Master. Hudson Trevor    male   \n",
       "2       1         0                     Allison, Miss. Helen Loraine  female   \n",
       "3       1         0             Allison, Mr. Hudson Joshua Creighton    male   \n",
       "4       1         0  Allison, Mrs. Hudson J C (Bessie Waldo Daniels)  female   \n",
       "\n",
       "       age  sibsp  parch  ticket      fare    cabin embarked boat   body  \\\n",
       "0  29.0000      0      0   24160  211.3375       B5        S    2    NaN   \n",
       "1   0.9167      1      2  113781  151.5500  C22 C26        S   11    NaN   \n",
       "2   2.0000      1      2  113781  151.5500  C22 C26        S  NaN    NaN   \n",
       "3  30.0000      1      2  113781  151.5500  C22 C26        S  NaN  135.0   \n",
       "4  25.0000      1      2  113781  151.5500  C22 C26        S  NaN    NaN   \n",
       "\n",
       "                         home.dest  \n",
       "0                     St Louis, MO  \n",
       "1  Montreal, PQ / Chesterville, ON  \n",
       "2  Montreal, PQ / Chesterville, ON  \n",
       "3  Montreal, PQ / Chesterville, ON  \n",
       "4  Montreal, PQ / Chesterville, ON  "
      ]
     },
     "execution_count": 17,
     "metadata": {},
     "output_type": "execute_result"
    }
   ],
   "source": [
    "import pandas as pd\n",
    "mainpath='C:/Users/crist/Documents/GitHub/python-ml-course/datasets'\n",
    "filename='/titanic/titanic3.csv'\n",
    "fullpath=mainpath + filename\n",
    "\n",
    "data=pd.read_csv(fullpath)\n",
    "data.head()\n",
    "#cargar el filepath como variable: recomendado\n",
    "#main\n",
    "\n",
    "#A través de os library\n",
    "import os\n",
    "fullpath=os.path.join(mainpath,fullpath)"
   ]
  },
  {
   "cell_type": "markdown",
   "id": "de0058a4",
   "metadata": {},
   "source": [
    "### Parámetros read_csv"
   ]
  },
  {
   "cell_type": "markdown",
   "id": "08da3a0c",
   "metadata": {},
   "source": [
    "filepath=\"url\": directorio del fichero de forma absoluta\n",
    "\n",
    "sep=\" \" : separador datos, coma por defecto en CSV / expresión regular\n",
    "\n",
    "dtype=\"None\": tipo de datos de columna. ej:dtype{\"nombre_a\":np.float64, \"nombre_b\":np.int32}\n",
    "\n",
    "header=None: qué fila se utiliza como cabecera, header=0 normalmente\n",
    "\n",
    "names=nombres de las columnas: lista o array\n",
    "\n",
    "skyprows=None: saltar filas\n",
    "\n",
    "index_col=None: identificador de columnas\n",
    "\n",
    "skip_blank_lines= bool: deja en blanco un dato faltante\n",
    "\n",
    "na_filter=bool: eliminar fila que contenga un dato na\n",
    "\n"
   ]
  },
  {
   "cell_type": "markdown",
   "id": "4c1afc70",
   "metadata": {},
   "source": [
    "## OPEN para lectura de ficheros grandes"
   ]
  },
  {
   "cell_type": "markdown",
   "id": "4cc5fc8c",
   "metadata": {},
   "source": [
    "data=open(fullpath)\n",
    "\n",
    "Añadir parámetros: 'r' para leer, 'w' para escribir (el fichero original pierde su contenido) a la función open, 'a' append para añadir al final del fichero\n",
    "\n",
    "Carga manual de datos: clase 24/26"
   ]
  },
  {
   "cell_type": "code",
   "execution_count": null,
   "id": "03dca51d",
   "metadata": {},
   "outputs": [],
   "source": [
    "cols = data3.readline().strip().split(\",\")\n",
    "n_cols = len(cols)\n",
    "#######################\n",
    "counter = 0\n",
    "main_dict = {}\n",
    "for col in cols:\n",
    "    main_dict[col] = []\n",
    "###############################  Lectura de filas\n",
    "for line in data3:\n",
    "    values = line.strip().split(\",\")\n",
    "    for i in range(len(cols)):\n",
    "        main_dict[cols[i]].append(values[i])\n",
    "    counter += 1\n",
    "######################################\n",
    "print(\"El data set tiene %d filas y %d columnas\"%(counter-1, n_cols))\n",
    "#################################### Convertir a DF\n",
    "df3 = pd.DataFrame(main_dict)\n",
    "df3.head()"
   ]
  },
  {
   "cell_type": "code",
   "execution_count": null,
   "id": "36728499",
   "metadata": {},
   "outputs": [],
   "source": [
    "#Escritura de ficheros\n",
    "with open(infile, \"r\") as infile1:\n",
    "    with open(outfile, \"w\") as outfile1:\n",
    "        for line in infile1:\n",
    "            fields = line.strip().split(\",\")\n",
    "            outfile1.write(\"\\t\".join(fields))\n",
    "            outfile1.write(\"\\n\")\n",
    "            \n",
    "##################\n",
    "\n",
    "df4 = pd.read_csv(outfile, sep = \"\\t\")\n",
    "df4.head()"
   ]
  },
  {
   "cell_type": "markdown",
   "id": "1a1e9c84",
   "metadata": {},
   "source": [
    "### Scrapping function"
   ]
  },
  {
   "cell_type": "code",
   "execution_count": null,
   "id": "023ae4f9",
   "metadata": {},
   "outputs": [],
   "source": [
    "def downloadFromURL(url, filename, sep = \",\", delim = \"\\n\", encoding=\"utf-8\", \n",
    "                   mainpath = \"/content/drive/My Drive/Curso Machine Learning con Python/datasets\"):\n",
    "    #primero importamos la librería y hacemos la conexión con la web de los datos\n",
    "    import urllib3\n",
    "    http = urllib3.PoolManager()\n",
    "    r = http.request('GET', url)\n",
    "    print(\"El estado de la respuesta es %d\" %(r.status))\n",
    "    response = r.data ## CORREGIDO: eliminado un doble decode que daba error\n",
    "    \n",
    "    #El objeto reponse contiene un string binario, así que lo convertimos a un string descodificándolo en UTF-8\n",
    "    str_data = response.decode(encoding)\n",
    "\n",
    "    #Dividimos el string en un array de filas, separándolo por intros\n",
    "    lines = str_data.split(delim)\n",
    "\n",
    "    #La primera línea contiene la cabecera, así que la extraemos\n",
    "    col_names = lines[0].split(sep)\n",
    "    n_cols = len(col_names)\n",
    "\n",
    "    #Generamos un diccionario vacío donde irá la información procesada desde la URL externa\n",
    "    counter = 0\n",
    "    main_dict = {}\n",
    "    for col in col_names:\n",
    "        main_dict[col] = []\n",
    "\n",
    "    #Procesamos fila a fila la información para ir rellenando el diccionario con los datos como hicimos antes\n",
    "    for line in lines:\n",
    "        #Nos saltamos la primera línea que es la que contiene la cabecera y ya tenemos procesada\n",
    "        if(counter > 0):\n",
    "            #Dividimos cada string por las comas como elemento separador\n",
    "            values = line.strip().split(sep)\n",
    "            #Añadimos cada valor a su respectiva columna del diccionario\n",
    "            for i in range(len(col_names)):\n",
    "                main_dict[col_names[i]].append(values[i])\n",
    "        counter += 1\n",
    "\n",
    "    print(\"El data set tiene %d filas y %d columnas\"%(counter-1, n_cols))\n",
    "\n",
    "    #Convertimos el diccionario procesado a Data Frame y comprobamos que los datos son correctos\n",
    "    df = pd.DataFrame(main_dict)\n",
    "    print(df.head())\n",
    "\n",
    "    #Elegimos donde guardarlo (en la carpeta athletes es donde tiene más sentido por el contexto del análisis)\n",
    "    fullpath = os.path.join(mainpath, filename)\n",
    "\n",
    "    #Lo guardamos en CSV, en JSON o en Excel según queramos\n",
    "    df.to_csv(fullpath+\".csv\")\n",
    "    df.to_json(fullpath+\".json\")\n",
    "    df.to_excel(fullpath+\".xls\")\n",
    "    print(\"Los ficheros se han guardado correctamente en: \"+fullpath)\n",
    "    \n",
    "    return df"
   ]
  },
  {
   "cell_type": "code",
   "execution_count": null,
   "id": "8dd7151e",
   "metadata": {},
   "outputs": [],
   "source": [
    "medals_df = downloadFromURL(medals_url, \"athletes/downloaded_medals\")\n",
    "medals_df.head()"
   ]
  },
  {
   "cell_type": "markdown",
   "id": "5e067a96",
   "metadata": {},
   "source": [
    "### Leer datos de URL"
   ]
  },
  {
   "cell_type": "code",
   "execution_count": 6,
   "id": "02637317",
   "metadata": {},
   "outputs": [
    {
     "data": {
      "text/html": [
       "<div>\n",
       "<style scoped>\n",
       "    .dataframe tbody tr th:only-of-type {\n",
       "        vertical-align: middle;\n",
       "    }\n",
       "\n",
       "    .dataframe tbody tr th {\n",
       "        vertical-align: top;\n",
       "    }\n",
       "\n",
       "    .dataframe thead th {\n",
       "        text-align: right;\n",
       "    }\n",
       "</style>\n",
       "<table border=\"1\" class=\"dataframe\">\n",
       "  <thead>\n",
       "    <tr style=\"text-align: right;\">\n",
       "      <th></th>\n",
       "      <th>Year</th>\n",
       "      <th>City</th>\n",
       "      <th>Sport</th>\n",
       "      <th>Discipline</th>\n",
       "      <th>NOC</th>\n",
       "      <th>Event</th>\n",
       "      <th>Event gender</th>\n",
       "      <th>Medal</th>\n",
       "    </tr>\n",
       "  </thead>\n",
       "  <tbody>\n",
       "    <tr>\n",
       "      <th>0</th>\n",
       "      <td>1924</td>\n",
       "      <td>Chamonix</td>\n",
       "      <td>Skating</td>\n",
       "      <td>Figure skating</td>\n",
       "      <td>AUT</td>\n",
       "      <td>individual</td>\n",
       "      <td>M</td>\n",
       "      <td>Silver</td>\n",
       "    </tr>\n",
       "    <tr>\n",
       "      <th>1</th>\n",
       "      <td>1924</td>\n",
       "      <td>Chamonix</td>\n",
       "      <td>Skating</td>\n",
       "      <td>Figure skating</td>\n",
       "      <td>AUT</td>\n",
       "      <td>individual</td>\n",
       "      <td>W</td>\n",
       "      <td>Gold</td>\n",
       "    </tr>\n",
       "    <tr>\n",
       "      <th>2</th>\n",
       "      <td>1924</td>\n",
       "      <td>Chamonix</td>\n",
       "      <td>Skating</td>\n",
       "      <td>Figure skating</td>\n",
       "      <td>AUT</td>\n",
       "      <td>pairs</td>\n",
       "      <td>X</td>\n",
       "      <td>Gold</td>\n",
       "    </tr>\n",
       "    <tr>\n",
       "      <th>3</th>\n",
       "      <td>1924</td>\n",
       "      <td>Chamonix</td>\n",
       "      <td>Bobsleigh</td>\n",
       "      <td>Bobsleigh</td>\n",
       "      <td>BEL</td>\n",
       "      <td>four-man</td>\n",
       "      <td>M</td>\n",
       "      <td>Bronze</td>\n",
       "    </tr>\n",
       "    <tr>\n",
       "      <th>4</th>\n",
       "      <td>1924</td>\n",
       "      <td>Chamonix</td>\n",
       "      <td>Ice Hockey</td>\n",
       "      <td>Ice Hockey</td>\n",
       "      <td>CAN</td>\n",
       "      <td>ice hockey</td>\n",
       "      <td>M</td>\n",
       "      <td>Gold</td>\n",
       "    </tr>\n",
       "  </tbody>\n",
       "</table>\n",
       "</div>"
      ],
      "text/plain": [
       "   Year      City       Sport      Discipline  NOC       Event Event gender  \\\n",
       "0  1924  Chamonix     Skating  Figure skating  AUT  individual            M   \n",
       "1  1924  Chamonix     Skating  Figure skating  AUT  individual            W   \n",
       "2  1924  Chamonix     Skating  Figure skating  AUT       pairs            X   \n",
       "3  1924  Chamonix   Bobsleigh       Bobsleigh  BEL    four-man            M   \n",
       "4  1924  Chamonix  Ice Hockey      Ice Hockey  CAN  ice hockey            M   \n",
       "\n",
       "    Medal  \n",
       "0  Silver  \n",
       "1    Gold  \n",
       "2    Gold  \n",
       "3  Bronze  \n",
       "4    Gold  "
      ]
     },
     "execution_count": 6,
     "metadata": {},
     "output_type": "execute_result"
    }
   ],
   "source": [
    "import pandas as pd\n",
    "url=\"http://winterolympicsmedals.com/medals.csv\"\n",
    "data=pd.read_csv(url)\n",
    "\n",
    "import csv\n",
    "import urllib3 ##otra librería para trabajar con url\n",
    "\n",
    "data.head()\n",
    "##Scrapp de una web + creación de dataframe. Clase 27"
   ]
  },
  {
   "cell_type": "markdown",
   "id": "d43357f9",
   "metadata": {},
   "source": [
    "### Leer datos desde Excel (XLS y XLSX)"
   ]
  },
  {
   "cell_type": "code",
   "execution_count": null,
   "id": "f80f9407",
   "metadata": {},
   "outputs": [],
   "source": [
    "mainpath='C:/Users/crist/Documents/GitHub/datasets'\n",
    "filename='/data/file.xls'\n",
    "fullpath=mainpath + filename\n",
    "data=pd.read_excel(fullpath, \"hoja1\")\n",
    "#El segundo argumento es la hoja que se quiere leer\n",
    "\n",
    "#data.to_csv(path.csv)\n",
    "#data.to_excel(path.xls)"
   ]
  },
  {
   "cell_type": "markdown",
   "id": "36100f43",
   "metadata": {},
   "source": [
    "## Estructura y resumen de datos"
   ]
  },
  {
   "cell_type": "markdown",
   "id": "2c9e1a4a",
   "metadata": {},
   "source": [
    "data.head(n): ver las n primeras filas del dataset\n",
    "\n",
    "data.tail(n): ver las n últimas filas del dataset\n",
    "\n",
    "data.shape :  dimensión (filas,columnas) del dataset\n",
    "\n",
    "data.columns (índices de las columnas)\n",
    "\n",
    "data.columns.values : valores de las columnas\n",
    "\n",
    "data.describe() : resumen estadístico del df\n",
    "\n",
    "data.dtypes : tipos de datos de cada columna\n",
    "\n",
    "\n"
   ]
  },
  {
   "cell_type": "markdown",
   "id": "a71791ee",
   "metadata": {},
   "source": [
    "# Missing values"
   ]
  },
  {
   "cell_type": "code",
   "execution_count": null,
   "id": "e6db41c0",
   "metadata": {},
   "outputs": [],
   "source": [
    "#comprobar si faltan datos\n",
    "pd.isnull(data[\"column\"])\n",
    "\n",
    "pd.notnull(data[\"column\"])\n",
    "\n",
    "#Devuelven valores booleanos si son o no nulos\n",
    "\n",
    "pd.isnull(data[\"column\"]).values ##Array de booleanos\n",
    "\n",
    "pd.isnull(data[\"column\"]).values.ravel.sum() ##Conteo de NULLS// ravels genera un vector único.\n",
    "\n"
   ]
  },
  {
   "cell_type": "markdown",
   "id": "5d9aae13",
   "metadata": {},
   "source": [
    "### Borrado de Missing Values"
   ]
  },
  {
   "cell_type": "code",
   "execution_count": null,
   "id": "8a1be403",
   "metadata": {},
   "outputs": [],
   "source": [
    "#Borrado de la fila\n",
    "data.dropna(axis=0, how=\"all\") #si todas sus columnas tiene NA\n",
    "data.dropna(axis=0, how=\"any\")  #si alguna columna tiene NA\n",
    "\n",
    "#Borrado de la columna\n",
    "data.dropna(axis=1)\n",
    "\n"
   ]
  },
  {
   "cell_type": "markdown",
   "id": "0b8c93c3",
   "metadata": {},
   "source": [
    "### Imputación/sustitución de Missing Values"
   ]
  },
  {
   "cell_type": "markdown",
   "id": "6015cdaf",
   "metadata": {},
   "source": [
    "fillna no reescribe el dataframe original, hay que crear copia d=d.fillna()\n",
    "\n",
    "data.fillna(value o \"string\") :sustituir todo el DF=NaN por value\n",
    "\n",
    "data[\"columna\"].fillna(value) :  sustituir por columna"
   ]
  },
  {
   "cell_type": "markdown",
   "id": "456d8b98",
   "metadata": {},
   "source": [
    "### Imputación por estadístico"
   ]
  },
  {
   "cell_type": "code",
   "execution_count": null,
   "id": "67132eae",
   "metadata": {},
   "outputs": [],
   "source": [
    "pd.isnull([\"col\"]).value.ravel().sum()\n",
    "\n",
    "data[\"coll\"].fillna(data[\"col\"].mean()) ##truncar si es necesario \n",
    "\n",
    "#podemos usar median(),  funciones lambda predefinidas o moda"
   ]
  },
  {
   "cell_type": "markdown",
   "id": "cf8b5846",
   "metadata": {},
   "source": [
    "forwardfill: reemplazar con el más cercano hacia adelante\n",
    "\n",
    "backwardfill: reemplazar con el más cercano hacia atrás"
   ]
  },
  {
   "cell_type": "code",
   "execution_count": null,
   "id": "c6346abb",
   "metadata": {},
   "outputs": [],
   "source": [
    "data[\"col\"].fillna(method=\"ffill\")\n",
    "\n",
    "data[\"col\"].fillna(method=\"backfill\")"
   ]
  },
  {
   "cell_type": "markdown",
   "id": "48a2c64f",
   "metadata": {},
   "source": [
    "## Variables dummies"
   ]
  },
  {
   "cell_type": "code",
   "execution_count": null,
   "id": "51a98ff9",
   "metadata": {},
   "outputs": [],
   "source": [
    "import pandas as pd\n",
    "dummy=pd.get_dummies(data[\"col\"], prefix=\"prefijo\")\n",
    "\n",
    "##nos cargamos la columna que hemos convertido a dummy\n",
    "data=data.drop([\"column\"], axis=1)\n",
    "\n",
    "#añadimos la tabla de dummies al daframe original\n",
    "\n",
    "data=pd.concat([data, dummy], axis=1)\n",
    "\n",
    "#axis=1 POR COLUMNAS\n",
    "\n"
   ]
  },
  {
   "cell_type": "code",
   "execution_count": null,
   "id": "5052fb52",
   "metadata": {},
   "outputs": [],
   "source": [
    "#función automática\n",
    "def createDummies(df, var_name):\n",
    "    dummy = pd.get_dummies(df[var_name], prefix=var_name)\n",
    "    df = df.drop(var_name, axis = 1)\n",
    "    df = pd.concat([df, dummy ], axis = 1)\n",
    "    return df\n",
    "\n",
    "#var_name=\"string\""
   ]
  },
  {
   "cell_type": "markdown",
   "id": "d00bddf2",
   "metadata": {},
   "source": [
    "# Visualización básica"
   ]
  },
  {
   "cell_type": "markdown",
   "id": "5c45fc83",
   "metadata": {},
   "source": [
    "## Scatterplot"
   ]
  },
  {
   "cell_type": "code",
   "execution_count": null,
   "id": "301b2ae5",
   "metadata": {},
   "outputs": [],
   "source": [
    "import pandas as pd\n",
    "import numpy as np\n",
    "import matplotlib.pyplot as plt\n",
    "%matplotlib inline "
   ]
  },
  {
   "cell_type": "code",
   "execution_count": null,
   "id": "9d6755f9",
   "metadata": {},
   "outputs": [],
   "source": [
    "data.plot(kind=\"scatter\", x=\"x_axis\", y=\"y_axis\")"
   ]
  },
  {
   "cell_type": "code",
   "execution_count": null,
   "id": "3d0637a9",
   "metadata": {},
   "outputs": [],
   "source": [
    "#Panel de plots\n",
    "figure, axs = plt.subplots(2,2, sharey=True, sharex=True)\n",
    "data.plot(kind=\"scatter\", x=\"x_axe0\", y =\"y_axe0\", ax=axs[0][0])\n",
    "data.plot(kind=\"scatter\", x=\"x_axe0\", y=\"y_axe1\", ax=axs[0][1])\n",
    "data.plot(kind=\"scatter\", x=\"x_axe1\", y =\"y_axe0\", ax=axs[1][0])\n",
    "data.plot(kind=\"scatter\", x=\"x_axe1\", y=\"y_axe1\", ax=axs[1][1])"
   ]
  },
  {
   "cell_type": "markdown",
   "id": "ac913ca8",
   "metadata": {},
   "source": [
    "## Histogram"
   ]
  },
  {
   "cell_type": "code",
   "execution_count": null,
   "id": "aa2c13a9",
   "metadata": {},
   "outputs": [],
   "source": [
    "k = int(np.ceil(1+np.log2(3333))) ##métodos de elección de K\n",
    "plt.hist(data[\"Col], bins = k) #bins = [0,30,60,...,200]\n",
    "plt.xlabel(\"Variable\")\n",
    "plt.ylabel(\"Frecuencia\")\n",
    "plt.title(\"Histograma\")"
   ]
  },
  {
   "cell_type": "markdown",
   "id": "e83907ba",
   "metadata": {},
   "source": [
    "## Boxplot"
   ]
  },
  {
   "cell_type": "code",
   "execution_count": null,
   "id": "8470891a",
   "metadata": {},
   "outputs": [],
   "source": [
    "plt.boxplot(data[\"Column\"])\n",
    "plt.ylabel(\"Variable\")\n",
    "plt.title(\"Boxplot\")"
   ]
  },
  {
   "cell_type": "code",
   "execution_count": null,
   "id": "4ea8812e",
   "metadata": {},
   "outputs": [],
   "source": [
    "data[\"Column\"].describe()"
   ]
  },
  {
   "cell_type": "markdown",
   "id": "250e785b",
   "metadata": {},
   "source": [
    "#### ~Cálculo de estadísticos"
   ]
  },
  {
   "cell_type": "code",
   "execution_count": null,
   "id": "24cfce6f",
   "metadata": {},
   "outputs": [],
   "source": [
    "IQR=data[\"Column\"].quantile(0.75)-data[\"Column\"].quantile(0.25)\n",
    "IQR"
   ]
  },
  {
   "cell_type": "code",
   "execution_count": null,
   "id": "fcb9b102",
   "metadata": {},
   "outputs": [],
   "source": [
    "data[\"Column\"].quantile(0.25) - 1.5*IQR"
   ]
  },
  {
   "cell_type": "code",
   "execution_count": null,
   "id": "734e1fc8",
   "metadata": {},
   "outputs": [],
   "source": [
    "data[\"Column\"].quantile(0.75) + 1.5*IQR"
   ]
  }
 ],
 "metadata": {
  "kernelspec": {
   "display_name": "Python 3",
   "language": "python",
   "name": "python3"
  },
  "language_info": {
   "codemirror_mode": {
    "name": "ipython",
    "version": 3
   },
   "file_extension": ".py",
   "mimetype": "text/x-python",
   "name": "python",
   "nbconvert_exporter": "python",
   "pygments_lexer": "ipython3",
   "version": "3.8.8"
  }
 },
 "nbformat": 4,
 "nbformat_minor": 5
}
