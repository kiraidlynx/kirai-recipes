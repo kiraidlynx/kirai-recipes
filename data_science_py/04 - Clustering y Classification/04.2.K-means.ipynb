{
 "cells": [
  {
   "cell_type": "markdown",
   "id": "db828c54",
   "metadata": {},
   "source": [
    "## K-means"
   ]
  },
  {
   "cell_type": "code",
   "execution_count": 1,
   "id": "8bf41803",
   "metadata": {},
   "outputs": [
    {
     "data": {
      "text/plain": [
       "array([[0.95674173, 0.72907258, 0.71487128],\n",
       "       [0.7203358 , 0.64705661, 0.01044064]])"
      ]
     },
     "execution_count": 1,
     "metadata": {},
     "output_type": "execute_result"
    }
   ],
   "source": [
    "import numpy as np\n",
    "data = np.random.random(90).reshape(30,3) #90 elementos en matriz 30x3\n",
    "\n",
    "#selección de dos observaciones al azar\n",
    "c1 = np.random.choice(range(len(data)))\n",
    "c2 = np.random.choice(range(len(data)))\n",
    "\n",
    "#calculo del primer centroide\n",
    "clust_centers = np.vstack([data[c1], data[c2]]) ##determinación de centros vstack: uno debajo del otro\n",
    "clust_centers"
   ]
  },
  {
   "cell_type": "code",
   "execution_count": 3,
   "id": "c127f35c",
   "metadata": {},
   "outputs": [],
   "source": [
    "from scipy.cluster.vq import vq\n",
    "#vq:devuelve dos array etiqueta de cluster y distancia al baricentro de su cluster\n",
    "clusters = vq(data, clust_centers) \n",
    "labels = clusters[0]"
   ]
  },
  {
   "cell_type": "code",
   "execution_count": 5,
   "id": "bcf53b68",
   "metadata": {},
   "outputs": [],
   "source": [
    "import chart_studio.plotly as py\n",
    "import plotly.graph_objs as go\n",
    "import plotly.offline as ply"
   ]
  },
  {
   "cell_type": "code",
   "execution_count": 8,
   "id": "e213d78a",
   "metadata": {},
   "outputs": [
    {
     "data": {
      "text/plain": [
       "'Clusters.html'"
      ]
     },
     "execution_count": 8,
     "metadata": {},
     "output_type": "execute_result"
    }
   ],
   "source": [
    "x = []\n",
    "y = []\n",
    "z = []\n",
    "x2 = []\n",
    "y2 = []\n",
    "z2 = []\n",
    "\n",
    "for i in range(0, len(labels)):\n",
    "    if(labels[i] == 0):\n",
    "        x.append(data[i,0])\n",
    "        y.append(data[i,1])\n",
    "        z.append(data[i,2])\n",
    "        \n",
    "    else:\n",
    "        x2.append(data[i,0])\n",
    "        y2.append(data[i,1])\n",
    "        z2.append(data[i,2])\n",
    "\n",
    "cluster1 = go.Scatter3d(\n",
    "    x=x,\n",
    "    y=y,\n",
    "    z=z,\n",
    "    mode='markers',\n",
    "    marker=dict(\n",
    "        size=12,\n",
    "        line=dict(\n",
    "            color='rgba(217, 217, 217, 0.14)',\n",
    "            width=0.5\n",
    "        ),\n",
    "        opacity=0.9\n",
    "    ),\n",
    "    name=\"Cluster 0\"\n",
    ")\n",
    "\n",
    "\n",
    "cluster2 = go.Scatter3d(\n",
    "    x=x2,\n",
    "    y=y2,\n",
    "    z=z2,\n",
    "    mode='markers',\n",
    "    marker=dict(\n",
    "        color='rgb(127, 127, 127)',\n",
    "        size=12,\n",
    "        symbol='circle',\n",
    "        line=dict(\n",
    "            color='rgb(204, 204, 204)',\n",
    "            width=1\n",
    "        ),\n",
    "        opacity=0.9\n",
    "    ),\n",
    "    name=\"Cluster 1\"\n",
    ")\n",
    "data2 = [cluster1, cluster2]\n",
    "layout = go.Layout(\n",
    "    margin=dict(\n",
    "        l=0,\n",
    "        r=0,\n",
    "        b=0,\n",
    "        t=30\n",
    "    )\n",
    ")\n",
    "\n",
    "fig = go.Figure(data=data2, layout=layout)\n",
    "ply.plot(fig, filename='Clusters.html')"
   ]
  },
  {
   "cell_type": "code",
   "execution_count": 6,
   "id": "c8f6f3d2",
   "metadata": {},
   "outputs": [
    {
     "data": {
      "text/plain": [
       "(array([[0.64871571, 0.6363366 , 0.45537751],\n",
       "        [0.15434207, 0.484039  , 0.75570722]]),\n",
       " 0.3726081058586256)"
      ]
     },
     "execution_count": 6,
     "metadata": {},
     "output_type": "execute_result"
    }
   ],
   "source": [
    "from scipy.cluster.vq import kmeans\n",
    "\n",
    "kmeans(data, clust_centers) #dados los centros devuelve las coordenadas de los baricentros y la suma de las distancias\n",
    "kmeans(data, 2) #dado el número de clusters '' ''"
   ]
  },
  {
   "cell_type": "code",
   "execution_count": null,
   "id": "13702eb0",
   "metadata": {},
   "outputs": [],
   "source": []
  }
 ],
 "metadata": {
  "kernelspec": {
   "display_name": "Python 3",
   "language": "python",
   "name": "python3"
  },
  "language_info": {
   "codemirror_mode": {
    "name": "ipython",
    "version": 3
   },
   "file_extension": ".py",
   "mimetype": "text/x-python",
   "name": "python",
   "nbconvert_exporter": "python",
   "pygments_lexer": "ipython3",
   "version": "3.8.8"
  }
 },
 "nbformat": 4,
 "nbformat_minor": 5
}
