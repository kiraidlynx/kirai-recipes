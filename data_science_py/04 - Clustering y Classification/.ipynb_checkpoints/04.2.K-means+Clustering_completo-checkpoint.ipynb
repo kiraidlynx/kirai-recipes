{
 "cells": [
  {
   "cell_type": "markdown",
   "id": "db828c54",
   "metadata": {},
   "source": [
    "## K-means"
   ]
  },
  {
   "cell_type": "code",
   "execution_count": 1,
   "id": "8bf41803",
   "metadata": {},
   "outputs": [
    {
     "data": {
      "text/plain": [
       "array([[0.95674173, 0.72907258, 0.71487128],\n",
       "       [0.7203358 , 0.64705661, 0.01044064]])"
      ]
     },
     "execution_count": 1,
     "metadata": {},
     "output_type": "execute_result"
    }
   ],
   "source": [
    "import numpy as np\n",
    "data = np.random.random(90).reshape(30,3) #90 elementos en matriz 30x3\n",
    "\n",
    "#selección de dos observaciones al azar\n",
    "c1 = np.random.choice(range(len(data)))\n",
    "c2 = np.random.choice(range(len(data)))\n",
    "\n",
    "#calculo del primer centroide\n",
    "clust_centers = np.vstack([data[c1], data[c2]]) ##determinación de centros vstack: uno debajo del otro\n",
    "clust_centers"
   ]
  },
  {
   "cell_type": "code",
   "execution_count": 3,
   "id": "c127f35c",
   "metadata": {},
   "outputs": [],
   "source": [
    "from scipy.cluster.vq import vq\n",
    "#vq:devuelve dos array etiqueta de cluster y distancia al baricentro de su cluster\n",
    "clusters = vq(data, clust_centers) \n",
    "labels = clusters[0]"
   ]
  },
  {
   "cell_type": "code",
   "execution_count": 5,
   "id": "bcf53b68",
   "metadata": {},
   "outputs": [],
   "source": [
    "import chart_studio.plotly as py\n",
    "import plotly.graph_objs as go\n",
    "import plotly.offline as ply"
   ]
  },
  {
   "cell_type": "code",
   "execution_count": 8,
   "id": "e213d78a",
   "metadata": {},
   "outputs": [
    {
     "data": {
      "text/plain": [
       "'Clusters.html'"
      ]
     },
     "execution_count": 8,
     "metadata": {},
     "output_type": "execute_result"
    }
   ],
   "source": [
    "x = []\n",
    "y = []\n",
    "z = []\n",
    "x2 = []\n",
    "y2 = []\n",
    "z2 = []\n",
    "\n",
    "for i in range(0, len(labels)):\n",
    "    if(labels[i] == 0):\n",
    "        x.append(data[i,0])\n",
    "        y.append(data[i,1])\n",
    "        z.append(data[i,2])\n",
    "        \n",
    "    else:\n",
    "        x2.append(data[i,0])\n",
    "        y2.append(data[i,1])\n",
    "        z2.append(data[i,2])\n",
    "\n",
    "cluster1 = go.Scatter3d(\n",
    "    x=x,\n",
    "    y=y,\n",
    "    z=z,\n",
    "    mode='markers',\n",
    "    marker=dict(\n",
    "        size=12,\n",
    "        line=dict(\n",
    "            color='rgba(217, 217, 217, 0.14)',\n",
    "            width=0.5\n",
    "        ),\n",
    "        opacity=0.9\n",
    "    ),\n",
    "    name=\"Cluster 0\"\n",
    ")\n",
    "\n",
    "\n",
    "cluster2 = go.Scatter3d(\n",
    "    x=x2,\n",
    "    y=y2,\n",
    "    z=z2,\n",
    "    mode='markers',\n",
    "    marker=dict(\n",
    "        color='rgb(127, 127, 127)',\n",
    "        size=12,\n",
    "        symbol='circle',\n",
    "        line=dict(\n",
    "            color='rgb(204, 204, 204)',\n",
    "            width=1\n",
    "        ),\n",
    "        opacity=0.9\n",
    "    ),\n",
    "    name=\"Cluster 1\"\n",
    ")\n",
    "data2 = [cluster1, cluster2]\n",
    "layout = go.Layout(\n",
    "    margin=dict(\n",
    "        l=0,\n",
    "        r=0,\n",
    "        b=0,\n",
    "        t=30\n",
    "    )\n",
    ")\n",
    "\n",
    "fig = go.Figure(data=data2, layout=layout)\n",
    "ply.plot(fig, filename='Clusters.html')"
   ]
  },
  {
   "cell_type": "code",
   "execution_count": 6,
   "id": "c8f6f3d2",
   "metadata": {},
   "outputs": [
    {
     "data": {
      "text/plain": [
       "(array([[0.64871571, 0.6363366 , 0.45537751],\n",
       "        [0.15434207, 0.484039  , 0.75570722]]),\n",
       " 0.3726081058586256)"
      ]
     },
     "execution_count": 6,
     "metadata": {},
     "output_type": "execute_result"
    }
   ],
   "source": [
    "from scipy.cluster.vq import kmeans\n",
    "\n",
    "kmeans(data, clust_centers) #dados los centros devuelve las coordenadas de los baricentros y la suma de las distancias\n",
    "kmeans(data, 2) #dado el número de clusters '' ''"
   ]
  },
  {
   "cell_type": "markdown",
   "id": "45dc6f59",
   "metadata": {},
   "source": [
    "### Generación de distribuciones en forma de anillo"
   ]
  },
  {
   "cell_type": "code",
   "execution_count": 2,
   "id": "15d5d09f",
   "metadata": {},
   "outputs": [
    {
     "data": {
      "text/plain": [
       "<matplotlib.collections.PathCollection at 0x1475820f1f0>"
      ]
     },
     "execution_count": 2,
     "metadata": {},
     "output_type": "execute_result"
    },
    {
     "data": {
      "image/png": "[encoded data removed]",
      "text/plain": [
       "<Figure size 432x288 with 1 Axes>"
      ]
     },
     "metadata": {
      "needs_background": "light"
     },
     "output_type": "display_data"
    }
   ],
   "source": [
    "from math import sin, cos, radians, pi, sqrt\n",
    "import numpy.random as rnd\n",
    "import numpy as np\n",
    "import matplotlib.pyplot as plt\n",
    "\n",
    "\n",
    "def ring(r_min = 0, r_max = 1, n_samples = 360):\n",
    "    angle = rnd.uniform(0, 2*pi, n_samples)\n",
    "    distance = rnd.uniform(r_min, r_max, n_samples)\n",
    "    data = []\n",
    "    for a, d in zip(angle, distance):\n",
    "        data.append([d*cos(a), d*sin(a)])\n",
    "    return np.array(data)\n",
    "\n",
    "data1 = ring(3, 5)\n",
    "data2 = ring(24, 27)\n",
    "\n",
    "data = np.concatenate([data1, data2], axis = 0)\n",
    "labels = np.concatenate([[0 for i in range(0,len(data1))], [1 for i in range(0,len(data2))]])\n",
    "plt.scatter(data[:,0], data[:,1], c = labels, s = 5, cmap = \"autumn\")"
   ]
  },
  {
   "cell_type": "code",
   "execution_count": 3,
   "id": "8e62b91e",
   "metadata": {},
   "outputs": [
    {
     "data": {
      "text/plain": [
       "<matplotlib.collections.PathCollection at 0x1475a5d66d0>"
      ]
     },
     "execution_count": 3,
     "metadata": {},
     "output_type": "execute_result"
    },
    {
     "data": {
      "image/png": "[encoded data removed]",
      "text/plain": [
       "<Figure size 432x288 with 1 Axes>"
      ]
     },
     "metadata": {
      "needs_background": "light"
     },
     "output_type": "display_data"
    }
   ],
   "source": [
    "from sklearn.cluster import KMeans\n",
    "km = KMeans(2).fit(data)\n",
    "clust = km.predict(data)\n",
    "\n",
    "plt.scatter(data[:,0], data[:, 1], c = clust, s = 5, cmap=\"autumn\")"
   ]
  },
  {
   "cell_type": "markdown",
   "id": "6173d068",
   "metadata": {},
   "source": [
    "### k-medoids"
   ]
  },
  {
   "cell_type": "code",
   "execution_count": 4,
   "id": "c369670f",
   "metadata": {},
   "outputs": [
    {
     "name": "stdout",
     "output_type": "stream",
     "text": [
      "Collecting pyclust\n",
      "  Downloading pyclust-0.2.0.tar.gz (1.2 MB)\n",
      "Building wheels for collected packages: pyclust\n",
      "  Building wheel for pyclust (setup.py): started\n",
      "  Building wheel for pyclust (setup.py): finished with status 'done'\n",
      "  Created wheel for pyclust: filename=pyclust-0.2.0-py3-none-any.whl size=12804 sha256=49bda7aed4e2de85a4c3e0e764237526471439fe1bc22aac454c4d7e46fd0dc1\n",
      "  Stored in directory: c:\\users\\crist\\appdata\\local\\pip\\cache\\wheels\\3d\\cf\\1e\\eb1f2ec75d476fd669a37ad513ef754d024997957e569e61b1\n",
      "Successfully built pyclust\n",
      "Installing collected packages: pyclust\n",
      "Successfully installed pyclust-0.2.0\n",
      "Collecting treelib\n",
      "  Downloading treelib-1.6.1.tar.gz (24 kB)\n",
      "Requirement already satisfied: future in c:\\users\\crist\\anaconda3\\lib\\site-packages (from treelib) (0.18.2)\n",
      "Building wheels for collected packages: treelib\n",
      "  Building wheel for treelib (setup.py): started\n",
      "  Building wheel for treelib (setup.py): finished with status 'done'\n",
      "  Created wheel for treelib: filename=treelib-1.6.1-py3-none-any.whl size=18371 sha256=ff2930ad5498097e53cd8087e3f3dbc8aa658c3f2d4e397be2e7922580e44543\n",
      "  Stored in directory: c:\\users\\crist\\appdata\\local\\pip\\cache\\wheels\\71\\df\\8b\\6b005e3bb9b275c24dfc392cda334f43f132e85a6f17cfad3a\n",
      "Successfully built treelib\n",
      "Installing collected packages: treelib\n",
      "Successfully installed treelib-1.6.1\n"
     ]
    },
    {
     "data": {
      "text/plain": [
       "<matplotlib.collections.PathCollection at 0x1475b632df0>"
      ]
     },
     "execution_count": 4,
     "metadata": {},
     "output_type": "execute_result"
    },
    {
     "data": {
      "image/png": "[encoded data removed]",
      "text/plain": [
       "<Figure size 432x288 with 1 Axes>"
      ]
     },
     "metadata": {
      "needs_background": "light"
     },
     "output_type": "display_data"
    }
   ],
   "source": [
    "!pip install pyclust\n",
    "!pip install treelib\n",
    "from pyclust import KMedoids\n",
    "\n",
    "kmed = KMedoids(2).fit_predict(data)\n",
    "plt.scatter(data[:,0], data[:,1], c=kmed, s=5, cmap=\"autumn\")"
   ]
  },
  {
   "cell_type": "markdown",
   "id": "7184999d",
   "metadata": {},
   "source": [
    "###  Clustering espectral"
   ]
  },
  {
   "cell_type": "code",
   "execution_count": 5,
   "id": "b283bb26",
   "metadata": {},
   "outputs": [
    {
     "data": {
      "text/plain": [
       "<matplotlib.collections.PathCollection at 0x1475b6d9130>"
      ]
     },
     "execution_count": 5,
     "metadata": {},
     "output_type": "execute_result"
    },
    {
     "data": {
      "image/png": "[encoded data removed]",
      "text/plain": [
       "<Figure size 432x288 with 1 Axes>"
      ]
     },
     "metadata": {
      "needs_background": "light"
     },
     "output_type": "display_data"
    }
   ],
   "source": [
    "from sklearn.cluster import SpectralClustering\n",
    "\n",
    "clust = SpectralClustering(2).fit_predict(data)\n",
    "\n",
    "plt.scatter(data[:,0], data[:,1], c = clust, s = 5, cmap = \"autumn\")"
   ]
  },
  {
   "cell_type": "markdown",
   "id": "9db5ca81",
   "metadata": {},
   "source": [
    "* Podemos estimar la k:\n",
    "    * No: Propagación de la afinidad\n",
    "    * Si: Podemos usar la distancia Euclídea:\n",
    "        * Si: K-Means\n",
    "        * No: Buscar valores centrales:\n",
    "            * Si: K-Medoides \n",
    "            * No: Los datos son linealmente separables:\n",
    "                * Si: Clustering aglomerativo\n",
    "                * No: Clustering Espectral"
   ]
  },
  {
   "cell_type": "markdown",
   "id": "7816e4c9",
   "metadata": {},
   "source": [
    "## Clustering completo"
   ]
  },
  {
   "cell_type": "code",
   "execution_count": 1,
   "id": "222ee2ae",
   "metadata": {},
   "outputs": [
    {
     "data": {
      "text/plain": [
       "(1599, 12)"
      ]
     },
     "execution_count": 1,
     "metadata": {},
     "output_type": "execute_result"
    }
   ],
   "source": [
    "import pandas as pd\n",
    "\n",
    "df = pd.read_csv(\"../../../python-ml-course/datasets/wine/winequality-red.csv\", sep = \";\")\n",
    "df.head()\n",
    "df.shape"
   ]
  },
  {
   "cell_type": "code",
   "execution_count": 2,
   "id": "b43aeffb",
   "metadata": {},
   "outputs": [
    {
     "data": {
      "text/plain": [
       "(array([ 10.,   0.,  53.,   0., 681.,   0., 638.,   0., 199.,  18.]),\n",
       " array([3. , 3.5, 4. , 4.5, 5. , 5.5, 6. , 6.5, 7. , 7.5, 8. ]),\n",
       " <BarContainer object of 10 artists>)"
      ]
     },
     "execution_count": 2,
     "metadata": {},
     "output_type": "execute_result"
    },
    {
     "data": {
      "image/png": "[encoded data removed]",
      "text/plain": [
       "<Figure size 432x288 with 1 Axes>"
      ]
     },
     "metadata": {
      "needs_background": "light"
     },
     "output_type": "display_data"
    }
   ],
   "source": [
    "import matplotlib.pyplot as plt\n",
    "plt.hist(df[\"quality\"])"
   ]
  },
  {
   "cell_type": "code",
   "execution_count": 3,
   "id": "82aea290",
   "metadata": {},
   "outputs": [
    {
     "data": {
      "text/html": [
       "<div>\n",
       "<style scoped>\n",
       "    .dataframe tbody tr th:only-of-type {\n",
       "        vertical-align: middle;\n",
       "    }\n",
       "\n",
       "    .dataframe tbody tr th {\n",
       "        vertical-align: top;\n",
       "    }\n",
       "\n",
       "    .dataframe thead th {\n",
       "        text-align: right;\n",
       "    }\n",
       "</style>\n",
       "<table border=\"1\" class=\"dataframe\">\n",
       "  <thead>\n",
       "    <tr style=\"text-align: right;\">\n",
       "      <th></th>\n",
       "      <th>fixed acidity</th>\n",
       "      <th>volatile acidity</th>\n",
       "      <th>citric acid</th>\n",
       "      <th>residual sugar</th>\n",
       "      <th>chlorides</th>\n",
       "      <th>free sulfur dioxide</th>\n",
       "      <th>total sulfur dioxide</th>\n",
       "      <th>density</th>\n",
       "      <th>pH</th>\n",
       "      <th>sulphates</th>\n",
       "      <th>alcohol</th>\n",
       "    </tr>\n",
       "    <tr>\n",
       "      <th>quality</th>\n",
       "      <th></th>\n",
       "      <th></th>\n",
       "      <th></th>\n",
       "      <th></th>\n",
       "      <th></th>\n",
       "      <th></th>\n",
       "      <th></th>\n",
       "      <th></th>\n",
       "      <th></th>\n",
       "      <th></th>\n",
       "      <th></th>\n",
       "    </tr>\n",
       "  </thead>\n",
       "  <tbody>\n",
       "    <tr>\n",
       "      <th>3</th>\n",
       "      <td>8.360000</td>\n",
       "      <td>0.884500</td>\n",
       "      <td>0.171000</td>\n",
       "      <td>2.635000</td>\n",
       "      <td>0.122500</td>\n",
       "      <td>11.000000</td>\n",
       "      <td>24.900000</td>\n",
       "      <td>0.997464</td>\n",
       "      <td>3.398000</td>\n",
       "      <td>0.570000</td>\n",
       "      <td>9.955000</td>\n",
       "    </tr>\n",
       "    <tr>\n",
       "      <th>4</th>\n",
       "      <td>7.779245</td>\n",
       "      <td>0.693962</td>\n",
       "      <td>0.174151</td>\n",
       "      <td>2.694340</td>\n",
       "      <td>0.090679</td>\n",
       "      <td>12.264151</td>\n",
       "      <td>36.245283</td>\n",
       "      <td>0.996542</td>\n",
       "      <td>3.381509</td>\n",
       "      <td>0.596415</td>\n",
       "      <td>10.265094</td>\n",
       "    </tr>\n",
       "    <tr>\n",
       "      <th>5</th>\n",
       "      <td>8.167254</td>\n",
       "      <td>0.577041</td>\n",
       "      <td>0.243686</td>\n",
       "      <td>2.528855</td>\n",
       "      <td>0.092736</td>\n",
       "      <td>16.983847</td>\n",
       "      <td>56.513950</td>\n",
       "      <td>0.997104</td>\n",
       "      <td>3.304949</td>\n",
       "      <td>0.620969</td>\n",
       "      <td>9.899706</td>\n",
       "    </tr>\n",
       "    <tr>\n",
       "      <th>6</th>\n",
       "      <td>8.347179</td>\n",
       "      <td>0.497484</td>\n",
       "      <td>0.273824</td>\n",
       "      <td>2.477194</td>\n",
       "      <td>0.084956</td>\n",
       "      <td>15.711599</td>\n",
       "      <td>40.869906</td>\n",
       "      <td>0.996615</td>\n",
       "      <td>3.318072</td>\n",
       "      <td>0.675329</td>\n",
       "      <td>10.629519</td>\n",
       "    </tr>\n",
       "    <tr>\n",
       "      <th>7</th>\n",
       "      <td>8.872362</td>\n",
       "      <td>0.403920</td>\n",
       "      <td>0.375176</td>\n",
       "      <td>2.720603</td>\n",
       "      <td>0.076588</td>\n",
       "      <td>14.045226</td>\n",
       "      <td>35.020101</td>\n",
       "      <td>0.996104</td>\n",
       "      <td>3.290754</td>\n",
       "      <td>0.741256</td>\n",
       "      <td>11.465913</td>\n",
       "    </tr>\n",
       "    <tr>\n",
       "      <th>8</th>\n",
       "      <td>8.566667</td>\n",
       "      <td>0.423333</td>\n",
       "      <td>0.391111</td>\n",
       "      <td>2.577778</td>\n",
       "      <td>0.068444</td>\n",
       "      <td>13.277778</td>\n",
       "      <td>33.444444</td>\n",
       "      <td>0.995212</td>\n",
       "      <td>3.267222</td>\n",
       "      <td>0.767778</td>\n",
       "      <td>12.094444</td>\n",
       "    </tr>\n",
       "  </tbody>\n",
       "</table>\n",
       "</div>"
      ],
      "text/plain": [
       "         fixed acidity  volatile acidity  citric acid  residual sugar  \\\n",
       "quality                                                                 \n",
       "3             8.360000          0.884500     0.171000        2.635000   \n",
       "4             7.779245          0.693962     0.174151        2.694340   \n",
       "5             8.167254          0.577041     0.243686        2.528855   \n",
       "6             8.347179          0.497484     0.273824        2.477194   \n",
       "7             8.872362          0.403920     0.375176        2.720603   \n",
       "8             8.566667          0.423333     0.391111        2.577778   \n",
       "\n",
       "         chlorides  free sulfur dioxide  total sulfur dioxide   density  \\\n",
       "quality                                                                   \n",
       "3         0.122500            11.000000             24.900000  0.997464   \n",
       "4         0.090679            12.264151             36.245283  0.996542   \n",
       "5         0.092736            16.983847             56.513950  0.997104   \n",
       "6         0.084956            15.711599             40.869906  0.996615   \n",
       "7         0.076588            14.045226             35.020101  0.996104   \n",
       "8         0.068444            13.277778             33.444444  0.995212   \n",
       "\n",
       "               pH  sulphates    alcohol  \n",
       "quality                                  \n",
       "3        3.398000   0.570000   9.955000  \n",
       "4        3.381509   0.596415  10.265094  \n",
       "5        3.304949   0.620969   9.899706  \n",
       "6        3.318072   0.675329  10.629519  \n",
       "7        3.290754   0.741256  11.465913  \n",
       "8        3.267222   0.767778  12.094444  "
      ]
     },
     "execution_count": 3,
     "metadata": {},
     "output_type": "execute_result"
    }
   ],
   "source": [
    "df.groupby(\"quality\").mean()"
   ]
  },
  {
   "cell_type": "markdown",
   "id": "ffa44ad3",
   "metadata": {},
   "source": [
    "### Normalización de los datos"
   ]
  },
  {
   "cell_type": "code",
   "execution_count": 4,
   "id": "f8144115",
   "metadata": {},
   "outputs": [
    {
     "data": {
      "text/html": [
       "<div>\n",
       "<style scoped>\n",
       "    .dataframe tbody tr th:only-of-type {\n",
       "        vertical-align: middle;\n",
       "    }\n",
       "\n",
       "    .dataframe tbody tr th {\n",
       "        vertical-align: top;\n",
       "    }\n",
       "\n",
       "    .dataframe thead th {\n",
       "        text-align: right;\n",
       "    }\n",
       "</style>\n",
       "<table border=\"1\" class=\"dataframe\">\n",
       "  <thead>\n",
       "    <tr style=\"text-align: right;\">\n",
       "      <th></th>\n",
       "      <th>fixed acidity</th>\n",
       "      <th>volatile acidity</th>\n",
       "      <th>citric acid</th>\n",
       "      <th>residual sugar</th>\n",
       "      <th>chlorides</th>\n",
       "      <th>free sulfur dioxide</th>\n",
       "      <th>total sulfur dioxide</th>\n",
       "      <th>density</th>\n",
       "      <th>pH</th>\n",
       "      <th>sulphates</th>\n",
       "      <th>alcohol</th>\n",
       "      <th>quality</th>\n",
       "    </tr>\n",
       "  </thead>\n",
       "  <tbody>\n",
       "    <tr>\n",
       "      <th>0</th>\n",
       "      <td>0.247788</td>\n",
       "      <td>0.397260</td>\n",
       "      <td>0.00</td>\n",
       "      <td>0.068493</td>\n",
       "      <td>0.106845</td>\n",
       "      <td>0.140845</td>\n",
       "      <td>0.098940</td>\n",
       "      <td>0.567548</td>\n",
       "      <td>0.606299</td>\n",
       "      <td>0.137725</td>\n",
       "      <td>0.153846</td>\n",
       "      <td>0.4</td>\n",
       "    </tr>\n",
       "    <tr>\n",
       "      <th>1</th>\n",
       "      <td>0.283186</td>\n",
       "      <td>0.520548</td>\n",
       "      <td>0.00</td>\n",
       "      <td>0.116438</td>\n",
       "      <td>0.143573</td>\n",
       "      <td>0.338028</td>\n",
       "      <td>0.215548</td>\n",
       "      <td>0.494126</td>\n",
       "      <td>0.362205</td>\n",
       "      <td>0.209581</td>\n",
       "      <td>0.215385</td>\n",
       "      <td>0.4</td>\n",
       "    </tr>\n",
       "    <tr>\n",
       "      <th>2</th>\n",
       "      <td>0.283186</td>\n",
       "      <td>0.438356</td>\n",
       "      <td>0.04</td>\n",
       "      <td>0.095890</td>\n",
       "      <td>0.133556</td>\n",
       "      <td>0.197183</td>\n",
       "      <td>0.169611</td>\n",
       "      <td>0.508811</td>\n",
       "      <td>0.409449</td>\n",
       "      <td>0.191617</td>\n",
       "      <td>0.215385</td>\n",
       "      <td>0.4</td>\n",
       "    </tr>\n",
       "    <tr>\n",
       "      <th>3</th>\n",
       "      <td>0.584071</td>\n",
       "      <td>0.109589</td>\n",
       "      <td>0.56</td>\n",
       "      <td>0.068493</td>\n",
       "      <td>0.105175</td>\n",
       "      <td>0.225352</td>\n",
       "      <td>0.190813</td>\n",
       "      <td>0.582232</td>\n",
       "      <td>0.330709</td>\n",
       "      <td>0.149701</td>\n",
       "      <td>0.215385</td>\n",
       "      <td>0.6</td>\n",
       "    </tr>\n",
       "    <tr>\n",
       "      <th>4</th>\n",
       "      <td>0.247788</td>\n",
       "      <td>0.397260</td>\n",
       "      <td>0.00</td>\n",
       "      <td>0.068493</td>\n",
       "      <td>0.106845</td>\n",
       "      <td>0.140845</td>\n",
       "      <td>0.098940</td>\n",
       "      <td>0.567548</td>\n",
       "      <td>0.606299</td>\n",
       "      <td>0.137725</td>\n",
       "      <td>0.153846</td>\n",
       "      <td>0.4</td>\n",
       "    </tr>\n",
       "  </tbody>\n",
       "</table>\n",
       "</div>"
      ],
      "text/plain": [
       "   fixed acidity  volatile acidity  citric acid  residual sugar  chlorides  \\\n",
       "0       0.247788          0.397260         0.00        0.068493   0.106845   \n",
       "1       0.283186          0.520548         0.00        0.116438   0.143573   \n",
       "2       0.283186          0.438356         0.04        0.095890   0.133556   \n",
       "3       0.584071          0.109589         0.56        0.068493   0.105175   \n",
       "4       0.247788          0.397260         0.00        0.068493   0.106845   \n",
       "\n",
       "   free sulfur dioxide  total sulfur dioxide   density        pH  sulphates  \\\n",
       "0             0.140845              0.098940  0.567548  0.606299   0.137725   \n",
       "1             0.338028              0.215548  0.494126  0.362205   0.209581   \n",
       "2             0.197183              0.169611  0.508811  0.409449   0.191617   \n",
       "3             0.225352              0.190813  0.582232  0.330709   0.149701   \n",
       "4             0.140845              0.098940  0.567548  0.606299   0.137725   \n",
       "\n",
       "    alcohol  quality  \n",
       "0  0.153846      0.4  \n",
       "1  0.215385      0.4  \n",
       "2  0.215385      0.4  \n",
       "3  0.215385      0.6  \n",
       "4  0.153846      0.4  "
      ]
     },
     "execution_count": 4,
     "metadata": {},
     "output_type": "execute_result"
    }
   ],
   "source": [
    "df_norm = (df-df.min())/(df.max()-df.min())\n",
    "df_norm.head()"
   ]
  },
  {
   "cell_type": "markdown",
   "id": "59900de6",
   "metadata": {},
   "source": [
    "### Clustering jerárquico con scikit-learn"
   ]
  },
  {
   "cell_type": "code",
   "execution_count": 5,
   "id": "fa63b2d5",
   "metadata": {},
   "outputs": [
    {
     "data": {
      "text/plain": [
       "Text(0, 0.5, 'Número de vinos del cluster')"
      ]
     },
     "execution_count": 5,
     "metadata": {},
     "output_type": "execute_result"
    },
    {
     "data": {
      "image/png": "[encoded data removed]",
      "text/plain": [
       "<Figure size 432x288 with 1 Axes>"
      ]
     },
     "metadata": {
      "needs_background": "light"
     },
     "output_type": "display_data"
    }
   ],
   "source": [
    "from sklearn.cluster import AgglomerativeClustering\n",
    "\n",
    "clus= AgglomerativeClustering(n_clusters=6, linkage=\"ward\").fit(df_norm) #el df se pasa por .fit()\n",
    "\n",
    "md_h = pd.Series(clus.labels_) #obtención de etiquetas\n",
    "\n",
    "plt.hist(md_h) #histograma de frecuencias de las etiquetas\n",
    "plt.title(\"Histograma de los clusters\")\n",
    "plt.xlabel(\"Cluster\")\n",
    "plt.ylabel(\"Número de vinos del cluster\")"
   ]
  },
  {
   "cell_type": "code",
   "execution_count": 6,
   "id": "721b910b",
   "metadata": {},
   "outputs": [
    {
     "data": {
      "text/plain": [
       "array([[   0,    4],\n",
       "       [ 135,  140],\n",
       "       [ 750,  751],\n",
       "       ...,\n",
       "       [3179, 3191],\n",
       "       [3192, 3193],\n",
       "       [3194, 3195]], dtype=int64)"
      ]
     },
     "execution_count": 6,
     "metadata": {},
     "output_type": "execute_result"
    }
   ],
   "source": [
    "clus.children_"
   ]
  },
  {
   "cell_type": "code",
   "execution_count": 7,
   "id": "c03d69d0",
   "metadata": {},
   "outputs": [
    {
     "data": {
      "image/png": "[encoded data removed]",
      "text/plain": [
       "<Figure size 1800x720 with 1 Axes>"
      ]
     },
     "metadata": {
      "needs_background": "light"
     },
     "output_type": "display_data"
    }
   ],
   "source": [
    "from scipy.cluster.hierarchy import dendrogram, linkage\n",
    "\n",
    "Z = linkage(df_norm, \"ward\")\n",
    "\n",
    "plt.figure(figsize=(25,10))\n",
    "plt.title(\"Dendrograma de los vinos\")\n",
    "plt.xlabel(\"ID del vino\")\n",
    "plt.ylabel(\"Distancia\")\n",
    "dendrogram(Z, leaf_rotation=90., leaf_font_size=4.)\n",
    "plt.show()"
   ]
  },
  {
   "cell_type": "markdown",
   "id": "3efbc200",
   "metadata": {},
   "source": [
    "### k-means"
   ]
  },
  {
   "cell_type": "code",
   "execution_count": 8,
   "id": "14e6236d",
   "metadata": {},
   "outputs": [
    {
     "data": {
      "text/html": [
       "<div>\n",
       "<style scoped>\n",
       "    .dataframe tbody tr th:only-of-type {\n",
       "        vertical-align: middle;\n",
       "    }\n",
       "\n",
       "    .dataframe tbody tr th {\n",
       "        vertical-align: top;\n",
       "    }\n",
       "\n",
       "    .dataframe thead th {\n",
       "        text-align: right;\n",
       "    }\n",
       "</style>\n",
       "<table border=\"1\" class=\"dataframe\">\n",
       "  <thead>\n",
       "    <tr style=\"text-align: right;\">\n",
       "      <th></th>\n",
       "      <th>fixed acidity</th>\n",
       "      <th>volatile acidity</th>\n",
       "      <th>citric acid</th>\n",
       "      <th>residual sugar</th>\n",
       "      <th>chlorides</th>\n",
       "      <th>free sulfur dioxide</th>\n",
       "      <th>total sulfur dioxide</th>\n",
       "      <th>density</th>\n",
       "      <th>pH</th>\n",
       "      <th>sulphates</th>\n",
       "      <th>alcohol</th>\n",
       "      <th>quality</th>\n",
       "      <th>clust_h</th>\n",
       "      <th>clust_k</th>\n",
       "    </tr>\n",
       "  </thead>\n",
       "  <tbody>\n",
       "    <tr>\n",
       "      <th>0</th>\n",
       "      <td>0.247788</td>\n",
       "      <td>0.397260</td>\n",
       "      <td>0.00</td>\n",
       "      <td>0.068493</td>\n",
       "      <td>0.106845</td>\n",
       "      <td>0.140845</td>\n",
       "      <td>0.098940</td>\n",
       "      <td>0.567548</td>\n",
       "      <td>0.606299</td>\n",
       "      <td>0.137725</td>\n",
       "      <td>0.153846</td>\n",
       "      <td>0.4</td>\n",
       "      <td>2</td>\n",
       "      <td>2</td>\n",
       "    </tr>\n",
       "    <tr>\n",
       "      <th>1</th>\n",
       "      <td>0.283186</td>\n",
       "      <td>0.520548</td>\n",
       "      <td>0.00</td>\n",
       "      <td>0.116438</td>\n",
       "      <td>0.143573</td>\n",
       "      <td>0.338028</td>\n",
       "      <td>0.215548</td>\n",
       "      <td>0.494126</td>\n",
       "      <td>0.362205</td>\n",
       "      <td>0.209581</td>\n",
       "      <td>0.215385</td>\n",
       "      <td>0.4</td>\n",
       "      <td>2</td>\n",
       "      <td>2</td>\n",
       "    </tr>\n",
       "    <tr>\n",
       "      <th>2</th>\n",
       "      <td>0.283186</td>\n",
       "      <td>0.438356</td>\n",
       "      <td>0.04</td>\n",
       "      <td>0.095890</td>\n",
       "      <td>0.133556</td>\n",
       "      <td>0.197183</td>\n",
       "      <td>0.169611</td>\n",
       "      <td>0.508811</td>\n",
       "      <td>0.409449</td>\n",
       "      <td>0.191617</td>\n",
       "      <td>0.215385</td>\n",
       "      <td>0.4</td>\n",
       "      <td>2</td>\n",
       "      <td>2</td>\n",
       "    </tr>\n",
       "    <tr>\n",
       "      <th>3</th>\n",
       "      <td>0.584071</td>\n",
       "      <td>0.109589</td>\n",
       "      <td>0.56</td>\n",
       "      <td>0.068493</td>\n",
       "      <td>0.105175</td>\n",
       "      <td>0.225352</td>\n",
       "      <td>0.190813</td>\n",
       "      <td>0.582232</td>\n",
       "      <td>0.330709</td>\n",
       "      <td>0.149701</td>\n",
       "      <td>0.215385</td>\n",
       "      <td>0.6</td>\n",
       "      <td>3</td>\n",
       "      <td>4</td>\n",
       "    </tr>\n",
       "    <tr>\n",
       "      <th>4</th>\n",
       "      <td>0.247788</td>\n",
       "      <td>0.397260</td>\n",
       "      <td>0.00</td>\n",
       "      <td>0.068493</td>\n",
       "      <td>0.106845</td>\n",
       "      <td>0.140845</td>\n",
       "      <td>0.098940</td>\n",
       "      <td>0.567548</td>\n",
       "      <td>0.606299</td>\n",
       "      <td>0.137725</td>\n",
       "      <td>0.153846</td>\n",
       "      <td>0.4</td>\n",
       "      <td>2</td>\n",
       "      <td>2</td>\n",
       "    </tr>\n",
       "  </tbody>\n",
       "</table>\n",
       "</div>"
      ],
      "text/plain": [
       "   fixed acidity  volatile acidity  citric acid  residual sugar  chlorides  \\\n",
       "0       0.247788          0.397260         0.00        0.068493   0.106845   \n",
       "1       0.283186          0.520548         0.00        0.116438   0.143573   \n",
       "2       0.283186          0.438356         0.04        0.095890   0.133556   \n",
       "3       0.584071          0.109589         0.56        0.068493   0.105175   \n",
       "4       0.247788          0.397260         0.00        0.068493   0.106845   \n",
       "\n",
       "   free sulfur dioxide  total sulfur dioxide   density        pH  sulphates  \\\n",
       "0             0.140845              0.098940  0.567548  0.606299   0.137725   \n",
       "1             0.338028              0.215548  0.494126  0.362205   0.209581   \n",
       "2             0.197183              0.169611  0.508811  0.409449   0.191617   \n",
       "3             0.225352              0.190813  0.582232  0.330709   0.149701   \n",
       "4             0.140845              0.098940  0.567548  0.606299   0.137725   \n",
       "\n",
       "    alcohol  quality  clust_h  clust_k  \n",
       "0  0.153846      0.4        2        2  \n",
       "1  0.215385      0.4        2        2  \n",
       "2  0.215385      0.4        2        2  \n",
       "3  0.215385      0.6        3        4  \n",
       "4  0.153846      0.4        2        2  "
      ]
     },
     "execution_count": 8,
     "metadata": {},
     "output_type": "execute_result"
    }
   ],
   "source": [
    "from sklearn.cluster import KMeans\n",
    "from sklearn import datasets\n",
    "\n",
    "\n",
    "model = KMeans(n_clusters=6)\n",
    "model.fit(df_norm)\n",
    "\n",
    "model.labels_\n",
    "\n",
    "md_k = pd.Series(model.labels_)\n",
    "\n",
    "#Añadimos al DF columna de etiqueta según la clasificación jerárquica o la k-means\n",
    "df_norm[\"clust_h\"] = md_h\n",
    "df_norm[\"clust_k\"] = md_k\n",
    "\n",
    "df_norm.head()"
   ]
  },
  {
   "cell_type": "code",
   "execution_count": 9,
   "id": "6038eee5",
   "metadata": {},
   "outputs": [
    {
     "data": {
      "text/plain": [
       "(array([ 29.,   0., 276.,   0., 505.,   0., 319.,   0., 247., 223.]),\n",
       " array([0. , 0.5, 1. , 1.5, 2. , 2.5, 3. , 3.5, 4. , 4.5, 5. ]),\n",
       " <BarContainer object of 10 artists>)"
      ]
     },
     "execution_count": 9,
     "metadata": {},
     "output_type": "execute_result"
    },
    {
     "data": {
      "image/png": "[encoded data removed]",
      "text/plain": [
       "<Figure size 432x288 with 1 Axes>"
      ]
     },
     "metadata": {
      "needs_background": "light"
     },
     "output_type": "display_data"
    }
   ],
   "source": [
    "plt.hist(md_k)"
   ]
  },
  {
   "cell_type": "code",
   "execution_count": 10,
   "id": "cc0cdbf4",
   "metadata": {},
   "outputs": [
    {
     "data": {
      "text/plain": [
       "array([[0.32987489, 0.28412848, 0.48758621, 0.07416155, 0.54953658,\n",
       "        0.21369597, 0.2114049 , 0.51240569, 0.23486288, 0.59281437,\n",
       "        0.16127321, 0.46896552],\n",
       "       [0.36344107, 0.16000347, 0.41978261, 0.10348422, 0.10664513,\n",
       "        0.16033884, 0.08339735, 0.41617719, 0.4206322 , 0.23585438,\n",
       "        0.47892977, 0.69057971],\n",
       "       [0.26266538, 0.35961617, 0.11758416, 0.09143497, 0.12257723,\n",
       "        0.1457119 , 0.10711962, 0.49058897, 0.48781477, 0.1550246 ,\n",
       "        0.22113734, 0.44039604],\n",
       "       [0.31725248, 0.27938335, 0.30423197, 0.15177996, 0.12704037,\n",
       "        0.37750011, 0.29632132, 0.54009639, 0.43578604, 0.1786083 ,\n",
       "        0.21261956, 0.4539185 ],\n",
       "       [0.58249436, 0.20765626, 0.51105263, 0.13451833, 0.13089968,\n",
       "        0.13816502, 0.0918871 , 0.65661358, 0.3306449 , 0.22332663,\n",
       "        0.29029378, 0.5465587 ],\n",
       "       [0.17373705, 0.32388353, 0.09251121, 0.0939554 , 0.09562275,\n",
       "        0.25298427, 0.12638451, 0.32242877, 0.57904029, 0.18603152,\n",
       "        0.49143383, 0.61255605]])"
      ]
     },
     "execution_count": 10,
     "metadata": {},
     "output_type": "execute_result"
    }
   ],
   "source": [
    "#coordenadas en espacio k-dimensiones del baricentro de cada cluster\n",
    "model.cluster_centers_"
   ]
  },
  {
   "cell_type": "code",
   "execution_count": 11,
   "id": "1e1bb3bf",
   "metadata": {},
   "outputs": [
    {
     "data": {
      "text/plain": [
       "186.53981524799366"
      ]
     },
     "execution_count": 11,
     "metadata": {},
     "output_type": "execute_result"
    }
   ],
   "source": [
    "#suma de cuadrados internos entre los cuadrados totales: coef. incercia\n",
    "model.inertia_"
   ]
  },
  {
   "cell_type": "markdown",
   "id": "a34650e3",
   "metadata": {},
   "source": [
    "## Interpretación final"
   ]
  },
  {
   "cell_type": "code",
   "execution_count": 12,
   "id": "501a3aee",
   "metadata": {},
   "outputs": [
    {
     "data": {
      "text/html": [
       "<div>\n",
       "<style scoped>\n",
       "    .dataframe tbody tr th:only-of-type {\n",
       "        vertical-align: middle;\n",
       "    }\n",
       "\n",
       "    .dataframe tbody tr th {\n",
       "        vertical-align: top;\n",
       "    }\n",
       "\n",
       "    .dataframe thead th {\n",
       "        text-align: right;\n",
       "    }\n",
       "</style>\n",
       "<table border=\"1\" class=\"dataframe\">\n",
       "  <thead>\n",
       "    <tr style=\"text-align: right;\">\n",
       "      <th></th>\n",
       "      <th>fixed acidity</th>\n",
       "      <th>volatile acidity</th>\n",
       "      <th>citric acid</th>\n",
       "      <th>residual sugar</th>\n",
       "      <th>chlorides</th>\n",
       "      <th>free sulfur dioxide</th>\n",
       "      <th>total sulfur dioxide</th>\n",
       "      <th>density</th>\n",
       "      <th>pH</th>\n",
       "      <th>sulphates</th>\n",
       "      <th>alcohol</th>\n",
       "      <th>quality</th>\n",
       "      <th>clust_h</th>\n",
       "    </tr>\n",
       "    <tr>\n",
       "      <th>clust_k</th>\n",
       "      <th></th>\n",
       "      <th></th>\n",
       "      <th></th>\n",
       "      <th></th>\n",
       "      <th></th>\n",
       "      <th></th>\n",
       "      <th></th>\n",
       "      <th></th>\n",
       "      <th></th>\n",
       "      <th></th>\n",
       "      <th></th>\n",
       "      <th></th>\n",
       "      <th></th>\n",
       "    </tr>\n",
       "  </thead>\n",
       "  <tbody>\n",
       "    <tr>\n",
       "      <th>0</th>\n",
       "      <td>0.329875</td>\n",
       "      <td>0.284128</td>\n",
       "      <td>0.487586</td>\n",
       "      <td>0.074162</td>\n",
       "      <td>0.549537</td>\n",
       "      <td>0.213696</td>\n",
       "      <td>0.211405</td>\n",
       "      <td>0.512406</td>\n",
       "      <td>0.234863</td>\n",
       "      <td>0.592814</td>\n",
       "      <td>0.161273</td>\n",
       "      <td>0.468966</td>\n",
       "      <td>4.896552</td>\n",
       "    </tr>\n",
       "    <tr>\n",
       "      <th>1</th>\n",
       "      <td>0.363441</td>\n",
       "      <td>0.160003</td>\n",
       "      <td>0.419783</td>\n",
       "      <td>0.103484</td>\n",
       "      <td>0.106645</td>\n",
       "      <td>0.160339</td>\n",
       "      <td>0.083397</td>\n",
       "      <td>0.416177</td>\n",
       "      <td>0.420632</td>\n",
       "      <td>0.235854</td>\n",
       "      <td>0.478930</td>\n",
       "      <td>0.690580</td>\n",
       "      <td>0.134058</td>\n",
       "    </tr>\n",
       "    <tr>\n",
       "      <th>2</th>\n",
       "      <td>0.262665</td>\n",
       "      <td>0.359616</td>\n",
       "      <td>0.117584</td>\n",
       "      <td>0.091435</td>\n",
       "      <td>0.122577</td>\n",
       "      <td>0.145712</td>\n",
       "      <td>0.107120</td>\n",
       "      <td>0.490589</td>\n",
       "      <td>0.487815</td>\n",
       "      <td>0.155025</td>\n",
       "      <td>0.221137</td>\n",
       "      <td>0.440396</td>\n",
       "      <td>2.021782</td>\n",
       "    </tr>\n",
       "    <tr>\n",
       "      <th>3</th>\n",
       "      <td>0.317252</td>\n",
       "      <td>0.279383</td>\n",
       "      <td>0.304232</td>\n",
       "      <td>0.151780</td>\n",
       "      <td>0.127040</td>\n",
       "      <td>0.377500</td>\n",
       "      <td>0.296321</td>\n",
       "      <td>0.540096</td>\n",
       "      <td>0.435786</td>\n",
       "      <td>0.178608</td>\n",
       "      <td>0.212620</td>\n",
       "      <td>0.453918</td>\n",
       "      <td>1.053292</td>\n",
       "    </tr>\n",
       "    <tr>\n",
       "      <th>4</th>\n",
       "      <td>0.582494</td>\n",
       "      <td>0.207656</td>\n",
       "      <td>0.511053</td>\n",
       "      <td>0.134518</td>\n",
       "      <td>0.130900</td>\n",
       "      <td>0.138165</td>\n",
       "      <td>0.091887</td>\n",
       "      <td>0.656614</td>\n",
       "      <td>0.330645</td>\n",
       "      <td>0.223327</td>\n",
       "      <td>0.290294</td>\n",
       "      <td>0.546559</td>\n",
       "      <td>2.064777</td>\n",
       "    </tr>\n",
       "    <tr>\n",
       "      <th>5</th>\n",
       "      <td>0.173737</td>\n",
       "      <td>0.323884</td>\n",
       "      <td>0.092511</td>\n",
       "      <td>0.093955</td>\n",
       "      <td>0.095623</td>\n",
       "      <td>0.252984</td>\n",
       "      <td>0.126385</td>\n",
       "      <td>0.322429</td>\n",
       "      <td>0.579040</td>\n",
       "      <td>0.186032</td>\n",
       "      <td>0.491434</td>\n",
       "      <td>0.612556</td>\n",
       "      <td>3.452915</td>\n",
       "    </tr>\n",
       "  </tbody>\n",
       "</table>\n",
       "</div>"
      ],
      "text/plain": [
       "         fixed acidity  volatile acidity  citric acid  residual sugar  \\\n",
       "clust_k                                                                 \n",
       "0             0.329875          0.284128     0.487586        0.074162   \n",
       "1             0.363441          0.160003     0.419783        0.103484   \n",
       "2             0.262665          0.359616     0.117584        0.091435   \n",
       "3             0.317252          0.279383     0.304232        0.151780   \n",
       "4             0.582494          0.207656     0.511053        0.134518   \n",
       "5             0.173737          0.323884     0.092511        0.093955   \n",
       "\n",
       "         chlorides  free sulfur dioxide  total sulfur dioxide   density  \\\n",
       "clust_k                                                                   \n",
       "0         0.549537             0.213696              0.211405  0.512406   \n",
       "1         0.106645             0.160339              0.083397  0.416177   \n",
       "2         0.122577             0.145712              0.107120  0.490589   \n",
       "3         0.127040             0.377500              0.296321  0.540096   \n",
       "4         0.130900             0.138165              0.091887  0.656614   \n",
       "5         0.095623             0.252984              0.126385  0.322429   \n",
       "\n",
       "               pH  sulphates   alcohol   quality   clust_h  \n",
       "clust_k                                                     \n",
       "0        0.234863   0.592814  0.161273  0.468966  4.896552  \n",
       "1        0.420632   0.235854  0.478930  0.690580  0.134058  \n",
       "2        0.487815   0.155025  0.221137  0.440396  2.021782  \n",
       "3        0.435786   0.178608  0.212620  0.453918  1.053292  \n",
       "4        0.330645   0.223327  0.290294  0.546559  2.064777  \n",
       "5        0.579040   0.186032  0.491434  0.612556  3.452915  "
      ]
     },
     "execution_count": 12,
     "metadata": {},
     "output_type": "execute_result"
    }
   ],
   "source": [
    "df_norm.groupby(\"clust_k\").mean()"
   ]
  }
 ],
 "metadata": {
  "kernelspec": {
   "display_name": "Python 3",
   "language": "python",
   "name": "python3"
  },
  "language_info": {
   "codemirror_mode": {
    "name": "ipython",
    "version": 3
   },
   "file_extension": ".py",
   "mimetype": "text/x-python",
   "name": "python",
   "nbconvert_exporter": "python",
   "pygments_lexer": "ipython3",
   "version": "3.8.8"
  }
 },
 "nbformat": 4,
 "nbformat_minor": 5
}
