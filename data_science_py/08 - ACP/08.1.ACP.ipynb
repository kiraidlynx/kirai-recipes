{
 "cells": [
  {
   "cell_type": "markdown",
   "id": "8ef6ec8b",
   "metadata": {},
   "source": [
    "### Análisis de componentes principales"
   ]
  },
  {
   "cell_type": "markdown",
   "id": "7f357b15",
   "metadata": {},
   "source": [
    "* Estandarizar los datos (para cada una de las m observaciones)\n",
    "* Obtener los vectores y valores propios a partir de la matriz de covarianzas o de correlaciones o incluso la técnica de singular vector decomposition.\n",
    "* Ordenar los valores propios en orden descendente y quedarnos con los *p* que se correpondan a los *p* mayores y así disminuir el número de variables del dataset (p<m)\n",
    "* Constrir la matriz de proyección W a partir de los p vectores propios\n",
    "* Transformar el dataset original X a través de W para así obtener dadtos en el subespacio dimensional de dimensión *p*, que será Y"
   ]
  },
  {
   "cell_type": "code",
   "execution_count": null,
   "id": "5f21de69",
   "metadata": {},
   "outputs": [],
   "source": [
    "##plotly: libreria de gráficos\n",
    "#import chart_studio.plotly as py\n",
    "#import plotly.graph_objects as go\n",
    "#import chart_studio\n",
    "\n",
    "#Matriz de covarianzas: np.cov(X_std.T)\n",
    "#Matriz de correlaciones: corr_matrix = np.corrcoef(X.T)\n",
    "#singular value decomposition: u,s,v = np.linalg.svd(X_std.T) -> u: matriz de valores propiosX"
   ]
  },
  {
   "cell_type": "code",
   "execution_count": null,
   "id": "b8d53ffc",
   "metadata": {},
   "outputs": [],
   "source": [
    "#X_std: matriz de predictores normalizada\n",
    "from sklearn.decomposition import PCA as sk_pca\n",
    "\n",
    "acp = sk_pca(n_components=2)\n",
    "Y = acp.fit_transform(X_std)\n",
    "\n",
    "Y"
   ]
  },
  {
   "cell_type": "code",
   "execution_count": null,
   "id": "755d92f9",
   "metadata": {},
   "outputs": [],
   "source": [
    "results = []\n",
    "\n",
    "for name in ('setosa', 'versicolor', 'virginica'): #categorias\n",
    "    result = go.Scatter (x = Y[y==name,0], y = Y[y==name,1],\n",
    "    mode = \"markers\", name = name, marker = {\"size\":8, \"line\": {\"color\": \"rgba(225,225,225,0.2)\",\"width\": 0.5}}, opacity= 0.75)\n",
    "    results.append(result)\n",
    "\n",
    "layout = go.Layout(xaxis = {\"title\":'CP1', \"showline\" :False, \"zerolinecolor\" : \"gray\"}, yaxis = {\"title\" :'CP2', \"showline\" :False, \"zerolinecolor\" : \"gray\"})\n",
    "\n",
    "fig = go.Figure(data=results, layout=layout)\n",
    "py.iplot(fig)\n",
    "#fig.show()"
   ]
  }
 ],
 "metadata": {
  "kernelspec": {
   "display_name": "Python 3",
   "language": "python",
   "name": "python3"
  },
  "language_info": {
   "codemirror_mode": {
    "name": "ipython",
    "version": 3
   },
   "file_extension": ".py",
   "mimetype": "text/x-python",
   "name": "python",
   "nbconvert_exporter": "python",
   "pygments_lexer": "ipython3",
   "version": "3.8.8"
  }
 },
 "nbformat": 4,
 "nbformat_minor": 5
}
