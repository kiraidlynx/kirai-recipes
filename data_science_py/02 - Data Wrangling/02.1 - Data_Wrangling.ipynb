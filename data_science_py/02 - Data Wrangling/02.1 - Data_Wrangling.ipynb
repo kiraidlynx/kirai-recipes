{
 "cells": [
  {
   "cell_type": "markdown",
   "id": "3380c05d",
   "metadata": {
    "colab_type": "text",
    "id": "DLXD3g5j-NLe"
   },
   "source": [
    "## Crear un subconjunto de datos"
   ]
  },
  {
   "cell_type": "markdown",
   "id": "628c6ec0",
   "metadata": {},
   "source": [
    "#### Subconjunto de columna o columnas"
   ]
  },
  {
   "cell_type": "code",
   "execution_count": 1,
   "id": "72b8c048",
   "metadata": {},
   "outputs": [],
   "source": [
    "import pandas as pd\n",
    "#data=dataframe"
   ]
  },
  {
   "cell_type": "code",
   "execution_count": null,
   "id": "410a0398",
   "metadata": {},
   "outputs": [],
   "source": [
    "#Extraer varias columnas de un dataset en un subset\n",
    "subset = data[[\"Col1\", \"Col2\", \"Col3\", \"Col4\"]]\n",
    "\n",
    "type(subset) \n",
    "#si cogemos una sola columna: objeto tipo series, no usar funciones de dataframe\n",
    "#si cogemos varias columnas: objeto tipo dataframe"
   ]
  },
  {
   "cell_type": "code",
   "execution_count": null,
   "id": "a2a01375",
   "metadata": {},
   "outputs": [],
   "source": [
    "##Columnas como variable\n",
    "desired_columns = [\"Col1\", \"Col2\", \"Col3\", \"Col4\"]\n",
    "subset = data[desired_columns]\n",
    "subset.head()"
   ]
  },
  {
   "cell_type": "code",
   "execution_count": null,
   "id": "e7ee2198",
   "metadata": {},
   "outputs": [],
   "source": [
    "#Cuando hay muchas columnas, uso de bucles para crear lista:\n",
    "\n",
    "all_columns_list = data.columns.values.tolist()\n",
    "desired_columns = [\"Col1\", \"Col2\", \"Col3\", \"Col4\"]\n",
    "\n",
    "sublist = [x for x in all_columns_list if x not in desired_columns]\n",
    "\n",
    "sublist\n",
    "subset = data[sublist]\n",
    "subset.head()\n",
    "\n",
    "##Alternativo\n",
    "\n",
    "    a = set(desired_columns)\n",
    "    b = set(all_columns_list)\n",
    "    sublist = b-a\n",
    "    sublist = list(sublist)"
   ]
  },
  {
   "cell_type": "markdown",
   "id": "750d273c",
   "metadata": {},
   "source": [
    "#### Subconjunto de filas"
   ]
  },
  {
   "cell_type": "code",
   "execution_count": null,
   "id": "dfacd7a5",
   "metadata": {},
   "outputs": [],
   "source": [
    "data[0:25]\n",
    "data[10:35]\n",
    "data[:8] # CORRECCIÓN: es lo mismo que data[0:8]\n",
    "data[60:] #del 60 en adelante"
   ]
  },
  {
   "cell_type": "markdown",
   "id": "913414b1",
   "metadata": {
    "colab_type": "text",
    "id": "8Z6R4bxt-NL9"
   },
   "source": [
    "#### Subconjuntos de filas con condiciones booleanas"
   ]
  },
  {
   "cell_type": "code",
   "execution_count": 2,
   "id": "f808e665",
   "metadata": {},
   "outputs": [
    {
     "ename": "NameError",
     "evalue": "name 'data' is not defined",
     "output_type": "error",
     "traceback": [
      "\u001b[1;31m---------------------------------------------------------------------------\u001b[0m",
      "\u001b[1;31mNameError\u001b[0m                                 Traceback (most recent call last)",
      "\u001b[1;32m<ipython-input-2-e63090f6552f>\u001b[0m in \u001b[0;36m<module>\u001b[1;34m\u001b[0m\n\u001b[0;32m      1\u001b[0m \u001b[1;31m##filtrar filas por valor de columna, condición booleana\u001b[0m\u001b[1;33m\u001b[0m\u001b[1;33m\u001b[0m\u001b[1;33m\u001b[0m\u001b[0m\n\u001b[0;32m      2\u001b[0m \u001b[1;33m\u001b[0m\u001b[0m\n\u001b[1;32m----> 3\u001b[1;33m \u001b[0mdata1\u001b[0m \u001b[1;33m=\u001b[0m \u001b[0mdata\u001b[0m\u001b[1;33m[\u001b[0m\u001b[0mdata\u001b[0m\u001b[1;33m[\u001b[0m\u001b[1;34m\"colum\"\u001b[0m\u001b[1;33m]\u001b[0m\u001b[1;33m>\u001b[0m\u001b[0mx\u001b[0m\u001b[1;33m]\u001b[0m\u001b[1;33m\u001b[0m\u001b[1;33m\u001b[0m\u001b[0m\n\u001b[0m\u001b[0;32m      4\u001b[0m \u001b[0mdata1\u001b[0m\u001b[1;33m.\u001b[0m\u001b[0mshape\u001b[0m\u001b[1;33m\u001b[0m\u001b[1;33m\u001b[0m\u001b[0m\n\u001b[0;32m      5\u001b[0m \u001b[1;33m\u001b[0m\u001b[0m\n",
      "\u001b[1;31mNameError\u001b[0m: name 'data' is not defined"
     ]
    }
   ],
   "source": [
    "##filtrar filas por valor de columna, condición booleana\n",
    "\n",
    "data1 = data[data[\"colum\"]>x] \n",
    "data1.shape\n",
    "\n",
    "data2 = data[data[\"colum\"]==\"NY\"]\n",
    "data2.shape\n",
    "\n",
    "data3 = data[(data[\"colum\"]>300) & (data[\"colum2\"]==\"NY\")] #and\n",
    "data3.shape\n",
    "\n",
    "data4 = data[(data[\"colum\"]>300) | (data[\"colum2\"]==\"NY\")] #or\n",
    "data4.shape\n",
    "\n",
    "data5 = data[data[\"colum\"]<data[\"colum2\"]]\n",
    "data5.shape\n"
   ]
  },
  {
   "cell_type": "markdown",
   "id": "a3b2b9d3",
   "metadata": {},
   "source": [
    "### Filtrado con ix -> loc e iloc"
   ]
  },
  {
   "cell_type": "code",
   "execution_count": null,
   "id": "4b48aa41",
   "metadata": {},
   "outputs": [],
   "source": [
    "#Un filtro por corchete, el primer corchete filtrado de columnas y el segundo corchete filtro sobre fila\n",
    "subset_first_50 = data[[\"colum\", \"colum2\", \"colum3\"]][:50]\n",
    "subset_first_50.head()"
   ]
  },
  {
   "cell_type": "code",
   "execution_count": null,
   "id": "c14efe25",
   "metadata": {},
   "outputs": [],
   "source": [
    "#ix: poner en un mismo corchete filas y columnas // como en R -- OBSOLETO\n",
    "data.ix[:10, 3:6] ## Primeras 10 filas, columnas de la 3 a la 6\n",
    "\n",
    "#.loc para etiquetas y .iloc para posiciones\n",
    "data.loc[[1,5,8,36], [\"Area Code\", \"VMail Plan\", \"Day Mins\"]]\n",
    "\n",
    "data.iloc[:10, 3:6]\n",
    "data.iloc[:,3:6] ##Todas las filas para las columnas entre la 3 y la 6\n",
    "data.iloc[:10,:] ##Todas las columnas para las filas de la 1 a la 10\n",
    "data.iloc[1:10, [2,5,7]]\n",
    "data.iloc[[1,5,8,36], [2,5,7]]"
   ]
  },
  {
   "cell_type": "markdown",
   "id": "340e519a",
   "metadata": {
    "colab_type": "text",
    "id": "jKj3sOSf-NMM"
   },
   "source": [
    "#### Insertar nuevas filas en el dataframe"
   ]
  },
  {
   "cell_type": "code",
   "execution_count": null,
   "id": "a56ec182",
   "metadata": {},
   "outputs": [],
   "source": [
    "data[\"new_col\"] = data[\"col1\"] + data[\"col2\"] + data[\"col3\"]\n",
    "##crear una columna es únicamente llamarla dentro del DF e igualarla a algo"
   ]
  },
  {
   "cell_type": "markdown",
   "id": "01e8b2e9",
   "metadata": {},
   "source": [
    "## Generación aleatoria de números"
   ]
  },
  {
   "cell_type": "code",
   "execution_count": 3,
   "id": "6aee1b4e",
   "metadata": {},
   "outputs": [],
   "source": [
    "import numpy as np"
   ]
  },
  {
   "cell_type": "code",
   "execution_count": null,
   "id": "5b517e0b",
   "metadata": {},
   "outputs": [],
   "source": [
    "##simulación de modelos probabilísticos multicasos. análisis predictivo\n",
    "\n",
    "np.random.randint(1,100) #número entero aleatorio del 1 al 100\n",
    "\n",
    "np.random.random() #aleatorio entre 0 y 1"
   ]
  },
  {
   "cell_type": "code",
   "execution_count": null,
   "id": "d534cdae",
   "metadata": {},
   "outputs": [],
   "source": [
    "##Función que genera una lista de n números aleatorios enteros dentro del intervalo [a,b]\n",
    "def randint_list(n, a, b):\n",
    "    x = []\n",
    "    for i in range(n): #range: array desde 0 hasta n\n",
    "        x.append(np.random.randint(a,b))\n",
    "    return x"
   ]
  },
  {
   "cell_type": "code",
   "execution_count": null,
   "id": "9b45b951",
   "metadata": {},
   "outputs": [],
   "source": [
    "import random #leer libreria\n",
    "random.randrange(0,100,7) #de 0 a 100 múltiplos de 7"
   ]
  },
  {
   "cell_type": "markdown",
   "id": "f9865e6c",
   "metadata": {
    "colab_type": "text",
    "id": "XrB-zDrP-NMX"
   },
   "source": [
    "#### Shuffling"
   ]
  },
  {
   "cell_type": "code",
   "execution_count": 12,
   "id": "3f35b558",
   "metadata": {},
   "outputs": [
    {
     "data": {
      "text/plain": [
       "array([38, 87, 92,  0, 74, 98, 94, 61, 91, 70, 86, 27, 30, 62, 60, 97, 33,\n",
       "       49,  7, 51, 24, 43, 67, 28, 63, 21, 81, 77, 64, 42, 89, 18, 11, 19,\n",
       "        2, 10, 78, 45, 41, 32, 80,  6, 23, 68, 82, 31,  1, 75, 40, 20, 50,\n",
       "       65, 66, 57, 54, 26, 84, 13, 76, 72, 96, 71, 59, 29, 12, 35, 15, 56,\n",
       "       79, 14,  9, 99, 93, 58, 16, 48, 55, 69, 36, 90, 47, 34,  8,  4, 83,\n",
       "        3, 88, 44, 85, 25,  5, 37, 46, 73, 22, 17, 39, 52, 53, 95])"
      ]
     },
     "execution_count": 12,
     "metadata": {},
     "output_type": "execute_result"
    }
   ],
   "source": [
    "#Creo un vector del 0 al 99\n",
    "a=np.arange(100)\n",
    "#Mezclo los valores / desordenar\n",
    "np.random.shuffle(a)\n",
    "a"
   ]
  },
  {
   "cell_type": "markdown",
   "id": "680d0831",
   "metadata": {
    "colab_type": "text",
    "id": "nVxDud5W-NMZ"
   },
   "source": [
    "#### Choice"
   ]
  },
  {
   "cell_type": "code",
   "execution_count": null,
   "id": "e61adf58",
   "metadata": {},
   "outputs": [],
   "source": [
    "#elegir un objeto al azar en una lsita\n",
    "np.random.choice(column_list)"
   ]
  },
  {
   "cell_type": "markdown",
   "id": "6e83cf06",
   "metadata": {},
   "source": [
    "## Distribuciones"
   ]
  },
  {
   "cell_type": "code",
   "execution_count": null,
   "id": "9430ac30",
   "metadata": {},
   "outputs": [],
   "source": [
    "data = np.random.uniform(a, b, n) #Uniforme\n",
    "data = np.random.randn(n) #Normal estándar\n",
    "plt.plot(x,sorted(data)) #Distr. gauss. acumulada\n",
    "\n",
    "#Generación de distribución normal estándar\n",
    "mu = 5.5\n",
    "sd = 2.5\n",
    "Z_n = np.random.randn(n)\n",
    "\n",
    "#Particularizar a nuestro conjunto de datos con sd y media mu\n",
    "data = mu + sd * Z_10000 # Z = (X - mu) / sd -> N(0,1), X = mu + sd * Z\n",
    "plt.hist(data)\n",
    "\n",
    "#Array de numeros aleatorios\n",
    "data = np.random.randn(n,m) #n cols y m filas de números aleatorios"
   ]
  },
  {
   "cell_type": "markdown",
   "id": "2de4932b",
   "metadata": {},
   "source": [
    "### Generación de dummy data frames"
   ]
  },
  {
   "cell_type": "code",
   "execution_count": null,
   "id": "52d0a2e2",
   "metadata": {},
   "outputs": [],
   "source": [
    "##Para ejemplificar que nuestros modelos funcionan\n",
    "\n",
    "n = 1000000\n",
    "data = pd.DataFrame(\n",
    "    {\n",
    "        'A' : np.random.randn(n),\n",
    "        'B' : 1.5 + 2.5 * np.random.randn(n),\n",
    "        'C' : np.random.uniform(5, 32, n)\n",
    "    }\n",
    ")\n",
    "\n",
    "data.describe()\n",
    "plt.hist(data[\"A\"])"
   ]
  },
  {
   "cell_type": "markdown",
   "id": "9655d18b",
   "metadata": {
    "colab_type": "text",
    "id": "K2teubACAkRb"
   },
   "source": [
    "# Agregación de datos por categoría"
   ]
  },
  {
   "cell_type": "markdown",
   "id": "d9742b36",
   "metadata": {},
   "source": [
    "### Dummy DF con variables categóricas"
   ]
  },
  {
   "cell_type": "code",
   "execution_count": 18,
   "id": "1139a298",
   "metadata": {},
   "outputs": [
    {
     "data": {
      "text/html": [
       "<div>\n",
       "<style scoped>\n",
       "    .dataframe tbody tr th:only-of-type {\n",
       "        vertical-align: middle;\n",
       "    }\n",
       "\n",
       "    .dataframe tbody tr th {\n",
       "        vertical-align: top;\n",
       "    }\n",
       "\n",
       "    .dataframe thead th {\n",
       "        text-align: right;\n",
       "    }\n",
       "</style>\n",
       "<table border=\"1\" class=\"dataframe\">\n",
       "  <thead>\n",
       "    <tr style=\"text-align: right;\">\n",
       "      <th></th>\n",
       "      <th>Gender</th>\n",
       "      <th>Economic Status</th>\n",
       "      <th>Height</th>\n",
       "      <th>Weight</th>\n",
       "      <th>Age</th>\n",
       "      <th>Income</th>\n",
       "    </tr>\n",
       "  </thead>\n",
       "  <tbody>\n",
       "    <tr>\n",
       "      <th>0</th>\n",
       "      <td>Female</td>\n",
       "      <td>Middle Class</td>\n",
       "      <td>180.984436</td>\n",
       "      <td>86.771126</td>\n",
       "      <td>50.228206</td>\n",
       "      <td>19825.179888</td>\n",
       "    </tr>\n",
       "    <tr>\n",
       "      <th>1</th>\n",
       "      <td>Male</td>\n",
       "      <td>Middle Class</td>\n",
       "      <td>149.626828</td>\n",
       "      <td>92.248513</td>\n",
       "      <td>37.512661</td>\n",
       "      <td>19223.092737</td>\n",
       "    </tr>\n",
       "    <tr>\n",
       "      <th>2</th>\n",
       "      <td>Male</td>\n",
       "      <td>Poor</td>\n",
       "      <td>119.623194</td>\n",
       "      <td>27.339284</td>\n",
       "      <td>40.810516</td>\n",
       "      <td>20375.173248</td>\n",
       "    </tr>\n",
       "    <tr>\n",
       "      <th>3</th>\n",
       "      <td>Female</td>\n",
       "      <td>Middle Class</td>\n",
       "      <td>83.403696</td>\n",
       "      <td>43.781061</td>\n",
       "      <td>11.200374</td>\n",
       "      <td>18564.975837</td>\n",
       "    </tr>\n",
       "    <tr>\n",
       "      <th>4</th>\n",
       "      <td>Female</td>\n",
       "      <td>Rich</td>\n",
       "      <td>172.290641</td>\n",
       "      <td>26.475937</td>\n",
       "      <td>14.562663</td>\n",
       "      <td>21270.755924</td>\n",
       "    </tr>\n",
       "  </tbody>\n",
       "</table>\n",
       "</div>"
      ],
      "text/plain": [
       "   Gender Economic Status      Height     Weight        Age        Income\n",
       "0  Female    Middle Class  180.984436  86.771126  50.228206  19825.179888\n",
       "1    Male    Middle Class  149.626828  92.248513  37.512661  19223.092737\n",
       "2    Male            Poor  119.623194  27.339284  40.810516  20375.173248\n",
       "3  Female    Middle Class   83.403696  43.781061  11.200374  18564.975837\n",
       "4  Female            Rich  172.290641  26.475937  14.562663  21270.755924"
      ]
     },
     "execution_count": 18,
     "metadata": {},
     "output_type": "execute_result"
    }
   ],
   "source": [
    "import numpy as np\n",
    "import pandas as pd\n",
    "\n",
    "##Generamos categorías\n",
    "\n",
    "gender = [\"Male\", \"Female\"]\n",
    "income = [\"Poor\", \"Middle Class\", \"Rich\"]\n",
    "\n",
    "n = 500\n",
    "\n",
    "gender_data = []\n",
    "income_data = []\n",
    "\n",
    "#Muestreo aleatorio de n observaciones de nuestras categorías (dummies)\n",
    "\n",
    "for i in range(0,n):\n",
    "    gender_data.append(np.random.choice(gender))\n",
    "    income_data.append(np.random.choice(income))\n",
    "    \n",
    "#Asignar características aleatorias a nuestros dummies\n",
    "    \n",
    "#Z -> N(0,1)\n",
    "#N(m, s) -> m + s * Z\n",
    "height = 160 + 30 * np.random.randn(n)\n",
    "weight = 65 + 25 * np.random.randn(n)\n",
    "age = 30 + 12 * np.random.randn(n)\n",
    "income = 18000 + 3500 * np.random.rand(n)\n",
    "\n",
    "#Generación del dataframe\n",
    "\n",
    "data = pd.DataFrame(\n",
    "    {\n",
    "        \"Gender\" : gender_data,\n",
    "        \"Economic Status\" : income_data,\n",
    "        \"Height\" : height,\n",
    "        \"Weight\" : weight,\n",
    "        \"Age\" : age,\n",
    "        \"Income\" : income\n",
    "    }\n",
    ")\n",
    "\n",
    "data.head()"
   ]
  },
  {
   "cell_type": "markdown",
   "id": "2e202414",
   "metadata": {
    "colab_type": "text",
    "id": "lcIDvGCfAkRy"
   },
   "source": [
    "## Agrupación de datos"
   ]
  },
  {
   "cell_type": "code",
   "execution_count": null,
   "id": "c423fceb",
   "metadata": {},
   "outputs": [],
   "source": [
    "#Objeto agrupado por índices\n",
    "grouped_gender = data.groupby(\"Gender\")\n",
    "grouped_gender.groups\n",
    "\n",
    "#Iterar sobre cada objeto, si se necesitan hacer operaciones para cada grupo\n",
    "for names, groups in grouped_gender:\n",
    "    print(names)\n",
    "    print(groups)\n",
    "    \n",
    "#Obtener un grupo específico\n",
    "grouped_gender.get_group(\"Female\")"
   ]
  },
  {
   "cell_type": "code",
   "execution_count": 20,
   "id": "61aafd2e",
   "metadata": {},
   "outputs": [
    {
     "name": "stdout",
     "output_type": "stream",
     "text": [
      "('Female', 'Middle Class')\n",
      "     Gender Economic Status      Height     Weight        Age        Income\n",
      "0    Female    Middle Class  180.984436  86.771126  50.228206  19825.179888\n",
      "3    Female    Middle Class   83.403696  43.781061  11.200374  18564.975837\n",
      "10   Female    Middle Class  184.706785  85.028402  25.649439  19057.874664\n",
      "16   Female    Middle Class  199.064142  91.921124  14.816280  21357.242861\n",
      "19   Female    Middle Class  200.831010  92.753459  17.551703  21456.430919\n",
      "..      ...             ...         ...        ...        ...           ...\n",
      "459  Female    Middle Class  209.284402  66.578692  39.650434  20276.414298\n",
      "469  Female    Middle Class  151.119331  72.458005  27.474612  18343.263665\n",
      "473  Female    Middle Class  188.863430  20.943327  47.432284  20418.888665\n",
      "489  Female    Middle Class  166.014420  83.261174   4.817838  19567.032536\n",
      "498  Female    Middle Class  181.328025  59.823031  31.254002  19502.223344\n",
      "\n",
      "[81 rows x 6 columns]\n",
      "('Female', 'Poor')\n",
      "     Gender Economic Status      Height     Weight        Age        Income\n",
      "5    Female            Poor  199.489185  57.832391  34.626862  19653.899285\n",
      "9    Female            Poor  158.014287  58.160714  10.587891  21058.345067\n",
      "17   Female            Poor  149.002871  28.886248  43.260414  21210.299273\n",
      "18   Female            Poor  127.968251  72.868543  38.504441  18947.225625\n",
      "22   Female            Poor  136.873236  76.994844  21.230761  19896.939083\n",
      "..      ...             ...         ...        ...        ...           ...\n",
      "474  Female            Poor  184.485484  82.002045  25.895286  18848.746944\n",
      "478  Female            Poor  141.864486  63.685268  10.732035  19971.897290\n",
      "479  Female            Poor  121.278032  77.226936  44.707810  20061.420130\n",
      "488  Female            Poor  175.416312  57.690155  21.320466  21149.368768\n",
      "493  Female            Poor  204.604336  82.783647  40.863896  20489.089359\n",
      "\n",
      "[90 rows x 6 columns]\n",
      "('Female', 'Rich')\n",
      "     Gender Economic Status      Height      Weight        Age        Income\n",
      "4    Female            Rich  172.290641   26.475937  14.562663  21270.755924\n",
      "8    Female            Rich  109.993786   79.148056  38.741772  20038.457850\n",
      "15   Female            Rich  118.148613   86.552736  10.454148  19139.044774\n",
      "34   Female            Rich  154.286017  118.729121  -8.470781  18261.988989\n",
      "37   Female            Rich  165.301724   36.837167  40.804981  20964.302326\n",
      "..      ...             ...         ...         ...        ...           ...\n",
      "481  Female            Rich  109.217440   62.476592  26.260981  21087.819331\n",
      "484  Female            Rich  119.026057   81.438197  51.351759  20717.847483\n",
      "485  Female            Rich  181.290438   85.266164  27.409553  18256.730670\n",
      "496  Female            Rich  128.917466   57.605341  19.007941  21222.437519\n",
      "499  Female            Rich  152.804654   80.012656  22.701253  19135.407441\n",
      "\n",
      "[89 rows x 6 columns]\n",
      "('Male', 'Middle Class')\n",
      "    Gender Economic Status      Height     Weight        Age        Income\n",
      "1     Male    Middle Class  149.626828  92.248513  37.512661  19223.092737\n",
      "7     Male    Middle Class  203.577094  56.876997  22.176842  19702.480149\n",
      "11    Male    Middle Class  134.211153  81.938595  58.713842  19970.141544\n",
      "14    Male    Middle Class  136.536279  66.783818  21.214459  20214.901587\n",
      "20    Male    Middle Class  172.500620  58.771283  33.982259  20171.381224\n",
      "..     ...             ...         ...        ...        ...           ...\n",
      "482   Male    Middle Class  172.857603  67.791614  20.633700  20823.206319\n",
      "483   Male    Middle Class  200.212860  38.772235  39.496480  21024.917001\n",
      "486   Male    Middle Class  159.439793  46.915483  -0.913527  20501.531679\n",
      "490   Male    Middle Class  193.799418  46.559605  34.552984  18160.610885\n",
      "494   Male    Middle Class  153.361160  81.279034  37.919718  20389.459786\n",
      "\n",
      "[86 rows x 6 columns]\n",
      "('Male', 'Poor')\n",
      "    Gender Economic Status      Height     Weight        Age        Income\n",
      "2     Male            Poor  119.623194  27.339284  40.810516  20375.173248\n",
      "6     Male            Poor  149.511763  56.854054  28.870848  18138.842975\n",
      "25    Male            Poor  118.668439  78.725764  54.237908  18378.565152\n",
      "43    Male            Poor  156.919388   5.039937  45.387597  18176.745920\n",
      "44    Male            Poor  166.724362  63.132608  58.243471  20338.337484\n",
      "..     ...             ...         ...        ...        ...           ...\n",
      "471   Male            Poor  167.808926  58.744490  26.278374  19999.108359\n",
      "480   Male            Poor  156.870897  27.943789  20.022326  20841.408259\n",
      "487   Male            Poor  192.539798  71.784598  34.568925  18173.008489\n",
      "491   Male            Poor  253.652400  39.766668  30.448469  18078.756115\n",
      "495   Male            Poor  175.282364  64.239224  16.330200  18185.357205\n",
      "\n",
      "[76 rows x 6 columns]\n",
      "('Male', 'Rich')\n",
      "    Gender Economic Status      Height      Weight        Age        Income\n",
      "12    Male            Rich  116.189249  112.149063  18.737234  18417.651126\n",
      "13    Male            Rich  163.774493   95.659267  52.696574  20026.773953\n",
      "23    Male            Rich  150.782138   52.677011  21.252269  21211.156833\n",
      "28    Male            Rich  176.525956   61.694044  23.616114  18922.692090\n",
      "39    Male            Rich  164.797609   52.614741  20.889205  19049.012978\n",
      "..     ...             ...         ...         ...        ...           ...\n",
      "465   Male            Rich  211.814516   29.215242  29.643978  20662.723214\n",
      "466   Male            Rich  130.743739   40.004073  36.472012  20503.607526\n",
      "468   Male            Rich  128.024280   52.812506  27.422565  19635.627291\n",
      "492   Male            Rich  142.703593   69.245405  27.468551  19335.320487\n",
      "497   Male            Rich  182.647281   38.437520  29.902987  21239.972729\n",
      "\n",
      "[78 rows x 6 columns]\n"
     ]
    }
   ],
   "source": [
    "#Doble groupby\n",
    "\n",
    "double_group = data.groupby([\"Gender\", \"Economic Status\"]) #6 grupos\n",
    "\n",
    "for names, groups in double_group:\n",
    "    print(names)\n",
    "    print(groups)"
   ]
  },
  {
   "cell_type": "markdown",
   "id": "63742b93",
   "metadata": {
    "colab_type": "text",
    "id": "bt-jzYaOAkR8"
   },
   "source": [
    "### Operaciones sobre datos agrupados"
   ]
  },
  {
   "cell_type": "code",
   "execution_count": null,
   "id": "7f7f4687",
   "metadata": {},
   "outputs": [],
   "source": [
    "#agregado de datos agrupados (aplicación de funciones)\n",
    "double_group.sum()\n",
    "double_group.mean()\n",
    "double_group.size()\n",
    "double_group.describe()\n",
    "\n",
    "#Tratamiendo de DF usual, podemos acceder a una categoría para realizar las operaciones \n",
    "double_group[\"Income\"]"
   ]
  },
  {
   "cell_type": "markdown",
   "id": "57e51960",
   "metadata": {},
   "source": [
    "### Agregado de funciones: método aggregate"
   ]
  },
  {
   "cell_type": "code",
   "execution_count": 21,
   "id": "0b3b56ea",
   "metadata": {},
   "outputs": [
    {
     "data": {
      "text/html": [
       "<div>\n",
       "<style scoped>\n",
       "    .dataframe tbody tr th:only-of-type {\n",
       "        vertical-align: middle;\n",
       "    }\n",
       "\n",
       "    .dataframe tbody tr th {\n",
       "        vertical-align: top;\n",
       "    }\n",
       "\n",
       "    .dataframe thead th {\n",
       "        text-align: right;\n",
       "    }\n",
       "</style>\n",
       "<table border=\"1\" class=\"dataframe\">\n",
       "  <thead>\n",
       "    <tr style=\"text-align: right;\">\n",
       "      <th></th>\n",
       "      <th></th>\n",
       "      <th>Income</th>\n",
       "      <th>Age</th>\n",
       "      <th>Height</th>\n",
       "    </tr>\n",
       "    <tr>\n",
       "      <th>Gender</th>\n",
       "      <th>Economic Status</th>\n",
       "      <th></th>\n",
       "      <th></th>\n",
       "      <th></th>\n",
       "    </tr>\n",
       "  </thead>\n",
       "  <tbody>\n",
       "    <tr>\n",
       "      <th rowspan=\"3\" valign=\"top\">Female</th>\n",
       "      <th>Middle Class</th>\n",
       "      <td>1.597759e+06</td>\n",
       "      <td>28.608246</td>\n",
       "      <td>29.391114</td>\n",
       "    </tr>\n",
       "    <tr>\n",
       "      <th>Poor</th>\n",
       "      <td>1.777748e+06</td>\n",
       "      <td>31.708116</td>\n",
       "      <td>29.692444</td>\n",
       "    </tr>\n",
       "    <tr>\n",
       "      <th>Rich</th>\n",
       "      <td>1.749472e+06</td>\n",
       "      <td>28.542767</td>\n",
       "      <td>30.899255</td>\n",
       "    </tr>\n",
       "    <tr>\n",
       "      <th rowspan=\"3\" valign=\"top\">Male</th>\n",
       "      <th>Middle Class</th>\n",
       "      <td>1.692182e+06</td>\n",
       "      <td>29.356076</td>\n",
       "      <td>26.755674</td>\n",
       "    </tr>\n",
       "    <tr>\n",
       "      <th>Poor</th>\n",
       "      <td>1.495972e+06</td>\n",
       "      <td>31.528095</td>\n",
       "      <td>33.931411</td>\n",
       "    </tr>\n",
       "    <tr>\n",
       "      <th>Rich</th>\n",
       "      <td>1.556833e+06</td>\n",
       "      <td>29.942922</td>\n",
       "      <td>27.648578</td>\n",
       "    </tr>\n",
       "  </tbody>\n",
       "</table>\n",
       "</div>"
      ],
      "text/plain": [
       "                              Income        Age     Height\n",
       "Gender Economic Status                                    \n",
       "Female Middle Class     1.597759e+06  28.608246  29.391114\n",
       "       Poor             1.777748e+06  31.708116  29.692444\n",
       "       Rich             1.749472e+06  28.542767  30.899255\n",
       "Male   Middle Class     1.692182e+06  29.356076  26.755674\n",
       "       Poor             1.495972e+06  31.528095  33.931411\n",
       "       Rich             1.556833e+06  29.942922  27.648578"
      ]
     },
     "execution_count": 21,
     "metadata": {},
     "output_type": "execute_result"
    }
   ],
   "source": [
    "#Aggregate aplica funciones por categorías y crea un nuevo DF\n",
    "double_group.aggregate(\n",
    "    {\n",
    "        \"Income\": np.sum,\n",
    "        \"Age\" : np.mean,\n",
    "        \"Height\" : np.std\n",
    "    }\n",
    ")\n",
    "\n",
    "\n",
    "double_group.aggregate(\n",
    "    {\n",
    "        \"Age\" : np.mean,\n",
    "        \"Height\" : lambda h:(np.mean(h))/np.std(h) #Tipificación por una función lambda\n",
    "    }\n",
    ")\n",
    "\n",
    "#Aplicar una o varias funciones a todas las columnas:\n",
    "double_group.aggregate([np.sum, np.mean, np.std])\n",
    "double_group.aggregate([lambda x: np.mean(x) / np.std(x)])"
   ]
  },
  {
   "cell_type": "markdown",
   "id": "524c797f",
   "metadata": {},
   "source": [
    "## Filtrado y transformación de datos\n"
   ]
  },
  {
   "cell_type": "code",
   "execution_count": null,
   "id": "315c81e9",
   "metadata": {},
   "outputs": [],
   "source": [
    "#Grupos cuya columna edad superen los 24000\n",
    "double_group[\"Age\"].filter(lambda x: x.sum()>2400) #FILTER funcion\n",
    "#Devuelve los elementos del grupo completo que cumplan con el filtro"
   ]
  },
  {
   "cell_type": "code",
   "execution_count": null,
   "id": "9e4454d7",
   "metadata": {},
   "outputs": [],
   "source": [
    "import matplotlib.pyplot as plt\n",
    "#transformación de un dataframe aplicando una función a todos sus elementos\n",
    "zscore = lambda x : (x - x.mean())/x.std()\n",
    "z_group = double_group.transform(zscore) #Transformación matemática a una columna numérica\n",
    "plt.hist(z_group[\"Age\"])"
   ]
  },
  {
   "cell_type": "code",
   "execution_count": null,
   "id": "91cc9701",
   "metadata": {},
   "outputs": [],
   "source": [
    "#podemos usar transform para rellenar los NA con la media\n",
    "fill_na_mean = lambda x : x.fillna(x.mean())\n",
    "double_group.transform(fill_na_mean)"
   ]
  },
  {
   "cell_type": "markdown",
   "id": "a499155d",
   "metadata": {
    "colab_type": "text",
    "id": "REgLbwFpAkSO"
   },
   "source": [
    "## Operaciones diversas muy útiles"
   ]
  },
  {
   "cell_type": "code",
   "execution_count": 22,
   "id": "064c122d",
   "metadata": {},
   "outputs": [
    {
     "data": {
      "text/html": [
       "<div>\n",
       "<style scoped>\n",
       "    .dataframe tbody tr th:only-of-type {\n",
       "        vertical-align: middle;\n",
       "    }\n",
       "\n",
       "    .dataframe tbody tr th {\n",
       "        vertical-align: top;\n",
       "    }\n",
       "\n",
       "    .dataframe thead th {\n",
       "        text-align: right;\n",
       "    }\n",
       "</style>\n",
       "<table border=\"1\" class=\"dataframe\">\n",
       "  <thead>\n",
       "    <tr style=\"text-align: right;\">\n",
       "      <th></th>\n",
       "      <th>Gender</th>\n",
       "      <th>Economic Status</th>\n",
       "      <th>Height</th>\n",
       "      <th>Weight</th>\n",
       "      <th>Age</th>\n",
       "      <th>Income</th>\n",
       "    </tr>\n",
       "  </thead>\n",
       "  <tbody>\n",
       "    <tr>\n",
       "      <th>34</th>\n",
       "      <td>Female</td>\n",
       "      <td>Rich</td>\n",
       "      <td>154.286017</td>\n",
       "      <td>118.729121</td>\n",
       "      <td>-8.470781</td>\n",
       "      <td>18261.988989</td>\n",
       "    </tr>\n",
       "    <tr>\n",
       "      <th>486</th>\n",
       "      <td>Male</td>\n",
       "      <td>Middle Class</td>\n",
       "      <td>159.439793</td>\n",
       "      <td>46.915483</td>\n",
       "      <td>-0.913527</td>\n",
       "      <td>20501.531679</td>\n",
       "    </tr>\n",
       "  </tbody>\n",
       "</table>\n",
       "</div>"
      ],
      "text/plain": [
       "     Gender Economic Status      Height      Weight       Age        Income\n",
       "34   Female            Rich  154.286017  118.729121 -8.470781  18261.988989\n",
       "486    Male    Middle Class  159.439793   46.915483 -0.913527  20501.531679"
      ]
     },
     "execution_count": 22,
     "metadata": {},
     "output_type": "execute_result"
    }
   ],
   "source": [
    "double_group.head(1)\n",
    "double_group.tail(1)\n",
    "double_group.nth(32)\n",
    "\n",
    "data_sorted = data.sort_values([\"Age\", \"Income\"])\n",
    "data_sorted.head(10)\n",
    "\n",
    "age_grouped = data_sorted.groupby(\"Gender\")\n",
    "age_grouped.head(1)"
   ]
  },
  {
   "cell_type": "code",
   "execution_count": null,
   "id": "9ea12b4e",
   "metadata": {},
   "outputs": [],
   "source": []
  },
  {
   "cell_type": "code",
   "execution_count": null,
   "id": "349bcc25",
   "metadata": {},
   "outputs": [],
   "source": []
  }
 ],
 "metadata": {
  "kernelspec": {
   "display_name": "Python 3",
   "language": "python",
   "name": "python3"
  },
  "language_info": {
   "codemirror_mode": {
    "name": "ipython",
    "version": 3
   },
   "file_extension": ".py",
   "mimetype": "text/x-python",
   "name": "python",
   "nbconvert_exporter": "python",
   "pygments_lexer": "ipython3",
   "version": "3.8.8"
  }
 },
 "nbformat": 4,
 "nbformat_minor": 5
}
