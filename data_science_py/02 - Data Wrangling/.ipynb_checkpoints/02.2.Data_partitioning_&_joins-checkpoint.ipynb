{
 "cells": [
  {
   "cell_type": "markdown",
   "id": "21af52a4",
   "metadata": {},
   "source": [
    "## Conjunto de entrenamiento y conjunto de testing"
   ]
  },
  {
   "cell_type": "code",
   "execution_count": 3,
   "id": "1df17874",
   "metadata": {},
   "outputs": [],
   "source": [
    "#Sin control del conjunto de testing\n",
    "from sklearn.model_selection import train_test_split \n",
    "\n",
    "train, test = train_test_split(data, test_size = 0.2)"
   ]
  },
  {
   "cell_type": "code",
   "execution_count": 4,
   "id": "9e947907",
   "metadata": {},
   "outputs": [],
   "source": [
    "#Con control del conjunto de testing\n",
    "#Usando método shuffle con una semilla\n",
    "import sklearn\n",
    "\n",
    "data = sklearn.utils.shuffle(data)\n",
    "\n",
    "cut_id = int(0.75*len(data))\n",
    "train_data = data[:cut_id]\n",
    "test_data = data[cut_id+1:]"
   ]
  },
  {
   "cell_type": "markdown",
   "id": "7e897204",
   "metadata": {},
   "source": [
    "## Concatenate/append datasets"
   ]
  },
  {
   "cell_type": "code",
   "execution_count": null,
   "id": "6c76700d",
   "metadata": {},
   "outputs": [],
   "source": [
    "concat_data = pd.concat([data1, data2], axis = 0) #por filas, axis=1 es por columnas"
   ]
  },
  {
   "cell_type": "markdown",
   "id": "45459176",
   "metadata": {},
   "source": [
    "En python, tenemos dos tipos de ejes, \n",
    "* axis = 0 denota el eje horizontal\n",
    "* axis = 1 denota el eje vertical"
   ]
  },
  {
   "cell_type": "code",
   "execution_count": 5,
   "id": "60d489e2",
   "metadata": {},
   "outputs": [],
   "source": [
    "##Técnica de scramble: sacar muestreo de cada dataset y concatenar"
   ]
  },
  {
   "cell_type": "markdown",
   "id": "b33de85e",
   "metadata": {},
   "source": [
    "### Datos distribuidos"
   ]
  },
  {
   "cell_type": "markdown",
   "id": "3e8dbb82",
   "metadata": {
    "colab_type": "text",
    "id": "RsJnj3eEB7m5"
   },
   "source": [
    "* Importar el primer fichero\n",
    "* Hacemos un bucle para ir recorriendo todos y cada uno de los ficheros. \n",
    "    * Importante tener una consistencia en el nombre de los ficheros \n",
    "    * Importamos los ficheros uno a uno\n",
    "    * Cada uno de ellos debe apendizarse (añadirse al final) del primer fichero que ya habíamos cargado\n",
    "* Repetimos el bucle hasta que no queden ficheros"
   ]
  },
  {
   "cell_type": "code",
   "execution_count": null,
   "id": "ee0c0b3d",
   "metadata": {},
   "outputs": [],
   "source": [
    "import pandas as pd\n",
    "\n",
    "filepath = \"/path/\"\n",
    "data = pd.read_csv(filepath+\"001.csv\")\n",
    "final_length = len(data)\n",
    "\n",
    "for i in range(2,333):\n",
    "    if i < 10:\n",
    "        filename = \"00\" + str(i)\n",
    "    if 10 <= i < 100:\n",
    "        filename = \"0\" + str(i)\n",
    "    if i >= 100:\n",
    "        filename = str(i)\n",
    "    file = filepath + filename + \".csv\"\n",
    "    \n",
    "    temp_data = pd.read_csv(file)\n",
    "    final_length += len(temp_data)\n",
    " #concatenate al final del df   \n",
    "    data = pd.concat([data, temp_data], axis = 0)\n",
    "    \n",
    "    \n",
    "final_length == data.shape[0] #True si se han concatenado correctamente"
   ]
  },
  {
   "cell_type": "markdown",
   "id": "4d205dcd",
   "metadata": {
    "colab_type": "text",
    "id": "0YdhyaxtB7m_"
   },
   "source": [
    "# Joins de datasets"
   ]
  },
  {
   "cell_type": "markdown",
   "id": "568cdd00",
   "metadata": {},
   "source": [
    "### Funciones útiles de dataframes"
   ]
  },
  {
   "cell_type": "code",
   "execution_count": null,
   "id": "e0036013",
   "metadata": {},
   "outputs": [],
   "source": [
    "#unique devuelve un vector con elementos que no se repiten\n",
    "a = data[\"column\"].unique().tolist()\n",
    "\n",
    "#drop_duplicates elimina los duplicados, quedandonos con un subconjunto único en función del parámetro SUBSET\n",
    "b = data.drop_duplicates(subset=\"variable\")\n",
    "\n",
    "#merge une df a través de una variable en común //  INNER JOIN\n",
    "data_final = pd.merge(left=data1, right=data2,\n",
    "                     left_on=\"variable_comun\", right_on=\"variable_comun\")"
   ]
  },
  {
   "cell_type": "markdown",
   "id": "39d65a99",
   "metadata": {},
   "source": [
    "### Tipos de Joins"
   ]
  },
  {
   "cell_type": "code",
   "execution_count": null,
   "id": "14ee8082",
   "metadata": {},
   "outputs": [],
   "source": [
    "##INNER JOIN\n",
    "\n",
    "merged_inner = pd.merge(left = data1, right = data2,\n",
    "                       how = \"inner\", left_on = \"variable_comun\", right_on = \"variable_comun\")\n",
    "\n",
    "##LEFT JOIN\n",
    "\n",
    "merged_left = pd.merge(left = data1, right = data2, \n",
    "                      how = \"left\", left_on = \"variable_comun\", right_on = \"variable_comun\")\n",
    "\n",
    "## RIGHT JOIN\n",
    "\n",
    "merged_right = pd.merge(left = data1, right = data2,\n",
    "                       how = \"right\", left_on = \"variable_comun\", right_on = \"variable_comun\")\n",
    "\n",
    "##OUTER JOIN\n",
    "\n",
    "merged_outer = pd.merge(left = data1, right=data2,\n",
    "                       how = \"outer\", left_on = \"variable_comun\", right_on=\"variable_comun\")"
   ]
  },
  {
   "cell_type": "markdown",
   "id": "4c43e0a1",
   "metadata": {},
   "source": [
    "#### Eliminar datos con restricciones de conjuntos"
   ]
  },
  {
   "cell_type": "code",
   "execution_count": null,
   "id": "ddf507b8",
   "metadata": {},
   "outputs": [],
   "source": [
    "data_filter = data_original[(~data_original[\"Column\"].isin(lista)) & ## ~ :lo contrario// is in: dentro de\n",
    "                                   (data_original[\"Column\"] != \"Objeto\")]"
   ]
  },
  {
   "cell_type": "code",
   "execution_count": null,
   "id": "a6529b23",
   "metadata": {},
   "outputs": [],
   "source": []
  },
  {
   "cell_type": "code",
   "execution_count": null,
   "id": "807e7dbf",
   "metadata": {},
   "outputs": [],
   "source": []
  },
  {
   "cell_type": "code",
   "execution_count": null,
   "id": "f7eaa359",
   "metadata": {},
   "outputs": [],
   "source": []
  }
 ],
 "metadata": {
  "kernelspec": {
   "display_name": "Python 3",
   "language": "python",
   "name": "python3"
  },
  "language_info": {
   "codemirror_mode": {
    "name": "ipython",
    "version": 3
   },
   "file_extension": ".py",
   "mimetype": "text/x-python",
   "name": "python",
   "nbconvert_exporter": "python",
   "pygments_lexer": "ipython3",
   "version": "3.8.8"
  }
 },
 "nbformat": 4,
 "nbformat_minor": 5
}
