{
 "cells": [
  {
   "cell_type": "markdown",
   "id": "bc234003",
   "metadata": {},
   "source": [
    "# Clasificación"
   ]
  },
  {
   "cell_type": "markdown",
   "id": "aa482f1a",
   "metadata": {},
   "source": [
    "##  Árboles de clasificación"
   ]
  },
  {
   "cell_type": "code",
   "execution_count": null,
   "id": "c5798130",
   "metadata": {},
   "outputs": [],
   "source": [
    "from sklearn.tree import DecisionTreeClassifier\n",
    "\n",
    "tree = DecisionTreeClassifier(criterion=\"entropy\", min_samples_split=20, random_state=99) \n",
    "#divide el nodo a partir de 20 elementos\n",
    "#min_samples_leaf = numero minimo de elementos para crear un nodo hoja\n",
    "#Criterios: entropia, Gini, varianza, CHAID\n",
    "\n",
    "tree.fit(train[predictors], train[target])\n",
    "\n",
    "preds = tree.predict(test[predictors])\n",
    "\n",
    "pd.crosstab(test[target], preds, rownames=[\"Actual\"], colnames=[\"Predictions\"]) #tabla de contingencia"
   ]
  },
  {
   "cell_type": "markdown",
   "id": "f3d83369",
   "metadata": {},
   "source": [
    "#### ~Visualización"
   ]
  },
  {
   "cell_type": "code",
   "execution_count": null,
   "id": "095cb269",
   "metadata": {},
   "outputs": [],
   "source": [
    "from sklearn.tree import export_graphviz\n",
    "\n",
    "#creamos un fichero con formato de grafo dirigido\n",
    "with open(\"resources/iris_dtree.dot\", \"w\") as dotfile: #ruta de salida del fichero, w: escribir\n",
    "    export_graphviz(tree, out_file=dotfile, feature_names=predictors)\n",
    "    dotfile.close()\n",
    "    \n",
    "#representamos el grafo con el documento anterior generado\n",
    "import os\n",
    "from graphviz import Source\n",
    "\n",
    "file = open(\"resources/iris_dtree.dot\", \"r\")\n",
    "text = file.read()\n",
    "text #lectura de fichero\n",
    "\n",
    "Source(text) #generador de grafo"
   ]
  },
  {
   "cell_type": "markdown",
   "id": "0505765f",
   "metadata": {},
   "source": [
    "#### Cross-Validation"
   ]
  },
  {
   "cell_type": "code",
   "execution_count": null,
   "id": "6cf9ab28",
   "metadata": {},
   "outputs": [],
   "source": [
    "X = data[predictors]\n",
    "Y = data[target]\n",
    "\n",
    "tree = DecisionTreeClassifier(criterion=\"entropy\", max_depth=5, min_samples_split=20, random_state=99)\n",
    "#max_depth: crecimiento de niveles a partir del nivel raiz\n",
    "tree.fit(X,Y)\n",
    "\n",
    "from sklearn.cross_validation import KFold\n",
    "\n",
    "cv = KFold(n = X.shape[0], n_folds=10, shuffle=True, random_state=1)\n",
    "\n",
    "from sklearn.cross_validation import cross_val_score\n",
    "\n",
    "scores = cross_val_score(tree, X, Y, scoring=\"accuracy\", cv = cv, n_jobs=1)\n",
    "scores\n",
    "\n",
    "score = np.mean(scores)\n",
    "score\n",
    "\n",
    "##decisión de profundida, niveles óptimos de clasificación\n",
    "for i in range(1,11):\n",
    "    tree = DecisionTreeClassifier(criterion=\"entropy\", max_depth=i, min_samples_split=20, random_state=99)\n",
    "    tree.fit(X,Y)\n",
    "    cv = KFold(n = X.shape[0], n_folds=10, shuffle=True, random_state=1)\n",
    "    scores = cross_val_score(tree, X, Y, scoring=\"accuracy\", cv = cv, n_jobs=1)\n",
    "    score = np.mean(scores)\n",
    "    print(\"Score para i = \",i,\" es de \", score)\n",
    "    print(\"   \",tree.feature_importances_) #porcentaje de importancia de predicción de cada predictor\n",
    "    \n",
    "predictors"
   ]
  },
  {
   "cell_type": "markdown",
   "id": "20338463",
   "metadata": {},
   "source": [
    "### Random Forest"
   ]
  },
  {
   "cell_type": "code",
   "execution_count": null,
   "id": "23d53af0",
   "metadata": {},
   "outputs": [],
   "source": [
    "from sklearn.ensemble import RandomForestClassifier\n",
    "\n",
    "forest = RandomForestClassifier(n_jobs=2, oob_score=True, n_estimators=100)\n",
    "forest.fit(X,Y)\n",
    "forest.oob_decision_function_"
   ]
  },
  {
   "cell_type": "code",
   "execution_count": null,
   "id": "73ba3a3e",
   "metadata": {},
   "outputs": [],
   "source": [
    "forest.oob_score_"
   ]
  },
  {
   "cell_type": "markdown",
   "id": "0e402c77",
   "metadata": {},
   "source": [
    "# Regresión"
   ]
  },
  {
   "cell_type": "markdown",
   "id": "f9a73ac1",
   "metadata": {},
   "source": [
    "### Árboles de regresión"
   ]
  },
  {
   "cell_type": "code",
   "execution_count": null,
   "id": "711d6d4e",
   "metadata": {},
   "outputs": [],
   "source": [
    "colnames = data.columns.values.tolist()\n",
    "predictors = colnames[:13]\n",
    "target = colnames[13]\n",
    "X = data[predictors]\n",
    "Y = data[target]"
   ]
  },
  {
   "cell_type": "code",
   "execution_count": null,
   "id": "3cc63dcd",
   "metadata": {},
   "outputs": [],
   "source": [
    "from sklearn.tree import DecisionTreeRegressor\n",
    "regtree = DecisionTreeRegressor(min_samples_split=30, min_samples_leaf=10, max_depth=5, random_state=0)\n",
    "regtree.fit(X,Y)\n",
    "preds = regtree.predict(data[predictors])\n",
    "data[\"preds\"] = preds\n",
    "data[[\"preds\", \"medv\"]] #doble corchete para sacar 2 variables o más"
   ]
  },
  {
   "cell_type": "code",
   "execution_count": null,
   "id": "10e5c777",
   "metadata": {},
   "outputs": [],
   "source": [
    "from sklearn.tree import export_graphviz\n",
    "with open(\"resources/boston_rtree.dot\", \"w\") as dotfile:\n",
    "    export_graphviz(regtree, out_file=dotfile, feature_names=predictors)\n",
    "    dotfile.close()\n",
    "    \n",
    "import os\n",
    "from graphviz import Source\n",
    "file = open(\"resources/boston_rtree.dot\", \"r\")\n",
    "text = file.read()\n",
    "Source(text)"
   ]
  },
  {
   "cell_type": "code",
   "execution_count": null,
   "id": "5999f400",
   "metadata": {},
   "outputs": [],
   "source": [
    "from sklearn.cross_validation import KFold\n",
    "from sklearn.cross_validation import cross_val_score\n",
    "import numpy as np\n",
    "\n",
    "cv = KFold(n=X.shape[0], n_folds = 10, shuffle=True, random_state=1)\n",
    "scores = cross_val_score(regtree, X, Y, scoring=\"mean_squared_error\", cv = cv, n_jobs=1)\n",
    "print(scores)\n",
    "score = np.mean(scores)\n",
    "print(score)\n",
    "\n",
    "list(zip(predictors,regtree.feature_importances_))"
   ]
  },
  {
   "cell_type": "markdown",
   "id": "acb9baed",
   "metadata": {},
   "source": [
    "### Random forest"
   ]
  },
  {
   "cell_type": "code",
   "execution_count": null,
   "id": "ec2425a0",
   "metadata": {},
   "outputs": [],
   "source": [
    "from sklearn.ensemble import RandomForestRegressor\n",
    "\n",
    "forest = RandomForestRegressor(n_jobs=2, oob_score=True, n_estimators=10000)\n",
    "#n_jobs: paralezicación de la computación en paralelo\n",
    "#oob_score: true-muestreo aleatorio para las predicciones outofthebox\n",
    "#n_estimators: numero de arboles del bosque\n",
    "forest.fit(X,Y)\n",
    "\n",
    "data[\"rforest_pred\"]= forest.oob_prediction_\n",
    "data[[\"rforest_pred\", \"medv\"]]"
   ]
  },
  {
   "cell_type": "code",
   "execution_count": null,
   "id": "4df5318e",
   "metadata": {},
   "outputs": [],
   "source": [
    "#error cuadratico medio\n",
    "data[\"rforest_error2\"] = (data[\"rforest_pred\"]-data[\"medv\"])**2\n",
    "sum(data[\"rforest_error2\"])/len(data)\n",
    "\n",
    "#score\n",
    "forest.oob_score_"
   ]
  }
 ],
 "metadata": {
  "kernelspec": {
   "display_name": "Python 3",
   "language": "python",
   "name": "python3"
  },
  "language_info": {
   "codemirror_mode": {
    "name": "ipython",
    "version": 3
   },
   "file_extension": ".py",
   "mimetype": "text/x-python",
   "name": "python",
   "nbconvert_exporter": "python",
   "pygments_lexer": "ipython3",
   "version": "3.8.8"
  }
 },
 "nbformat": 4,
 "nbformat_minor": 5
}
