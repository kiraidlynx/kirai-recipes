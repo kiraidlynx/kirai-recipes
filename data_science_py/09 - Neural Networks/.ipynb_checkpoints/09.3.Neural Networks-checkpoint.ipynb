{
 "cells": [
  {
   "cell_type": "markdown",
   "id": "4cc86e6f",
   "metadata": {},
   "source": [
    "## Aritificial Neural Networks - ANN"
   ]
  },
  {
   "cell_type": "code",
   "execution_count": 2,
   "id": "e00f5b59",
   "metadata": {},
   "outputs": [],
   "source": [
    "#CARGA DE DATOS Y SEPARACION PREDICTORS-TARGET\n",
    "\n",
    "import numpy as np\n",
    "import matplotlib.pyplot as plt\n",
    "import pandas as pd\n",
    "\n",
    "dataset = pd.read_csv('Churn_Modelling.csv')\n",
    "X = dataset.iloc[:, 3:13].values\n",
    "y = dataset.iloc[:, 13].values"
   ]
  },
  {
   "cell_type": "markdown",
   "id": "037f04e0",
   "metadata": {},
   "source": [
    "# Parte 1 - Pre procesado de datos"
   ]
  },
  {
   "cell_type": "markdown",
   "id": "44a0d579",
   "metadata": {
    "colab_type": "text",
    "id": "SsVEdPzf4XmV"
   },
   "source": [
    "### Codificar datos categóricos"
   ]
  },
  {
   "cell_type": "code",
   "execution_count": 4,
   "id": "5cc482eb",
   "metadata": {},
   "outputs": [],
   "source": [
    "from sklearn.preprocessing import LabelEncoder, OneHotEncoder\n",
    "from sklearn.compose import ColumnTransformer\n",
    "\n",
    "#codificar variables categóricas en variables dummies (ML-A-Z)\n",
    "labelencoder_X_1 = LabelEncoder()\n",
    "X[:, 1] = labelencoder_X_1.fit_transform(X[:, 1])\n",
    "labelencoder_X_2 = LabelEncoder()\n",
    "X[:, 2] = labelencoder_X_2.fit_transform(X[:, 2])\n",
    "onehotencoder = ColumnTransformer(\n",
    "    [('one_hot_encoder', OneHotEncoder(categories='auto'), [1])],   \n",
    "    remainder='passthrough'                        \n",
    ")\n",
    "X = onehotencoder.fit_transform(X)\n",
    "X = X[:, 1:]"
   ]
  },
  {
   "cell_type": "markdown",
   "id": "16cb95a4",
   "metadata": {
    "colab_type": "text",
    "id": "5AH_uCEz68rb"
   },
   "source": [
    "### Dividir el data set en conjunto de entrenamiento y conjunto de testing"
   ]
  },
  {
   "cell_type": "code",
   "execution_count": 5,
   "id": "25419248",
   "metadata": {},
   "outputs": [],
   "source": [
    "from sklearn.model_selection import train_test_split\n",
    "X_train, X_test, y_train, y_test = train_test_split(X, y, test_size = 0.2, random_state = 0)"
   ]
  },
  {
   "cell_type": "markdown",
   "id": "72425b26",
   "metadata": {},
   "source": [
    "### Escalado de variables"
   ]
  },
  {
   "cell_type": "code",
   "execution_count": 6,
   "id": "57cb295a",
   "metadata": {},
   "outputs": [],
   "source": [
    "from sklearn.preprocessing import StandardScaler\n",
    "sc_X = StandardScaler()\n",
    "X_train = sc_X.fit_transform(X_train)\n",
    "X_test = sc_X.transform(X_test)"
   ]
  },
  {
   "cell_type": "markdown",
   "id": "0d8f77fc",
   "metadata": {
    "colab_type": "text",
    "id": "cgweTaJ67BOB"
   },
   "source": [
    "# Parte 2 - Construir la RNA"
   ]
  },
  {
   "cell_type": "markdown",
   "id": "8bc86297",
   "metadata": {},
   "source": [
    "### Importar Keras y librerías adicionales\n"
   ]
  },
  {
   "cell_type": "code",
   "execution_count": null,
   "id": "27fab04a",
   "metadata": {},
   "outputs": [],
   "source": [
    "import keras\n",
    "from keras.models import Sequential #iniciarlizar los parámetros de la ANN\n",
    "from keras.layers import Dense #declarar y crear cada capa intermedia de la ANN / conexión entre capas"
   ]
  },
  {
   "cell_type": "code",
   "execution_count": null,
   "id": "220f081b",
   "metadata": {},
   "outputs": [],
   "source": [
    "# Cell: 1\n",
    "import os \n",
    "!pip install -U -q segmentation-models --user\n",
    "os.kill(os.getpid(), 9)\n",
    "\n",
    "#Cell: 2\n",
    "import os \n",
    "os.environ[\"SM_FRAMEWORK\"] = \"tf.keras\"\n",
    "import segmentation_models as sm"
   ]
  },
  {
   "cell_type": "markdown",
   "id": "515da7c4",
   "metadata": {},
   "source": [
    "### Inicializar la RNA"
   ]
  },
  {
   "cell_type": "code",
   "execution_count": null,
   "id": "701ba138",
   "metadata": {},
   "outputs": [],
   "source": [
    "classifier = Sequential()"
   ]
  },
  {
   "cell_type": "markdown",
   "id": "1ae43e82",
   "metadata": {},
   "source": [
    "### Añadir las capas de entrada y primera capa oculta\n"
   ]
  },
  {
   "cell_type": "code",
   "execution_count": null,
   "id": "1dc7f642",
   "metadata": {},
   "outputs": [],
   "source": [
    "#experimentación no teorica\n",
    "#regla oro: capa oculta: media entre capa de entrada y capa de salida mean(11,1)=6\n",
    "#funcion activación: experimentación: rectificador lineal unitario\n",
    "classifier.add(Dense(units = 6, kernel_initializer = \"uniform\",  \n",
    "                     activation = \"relu\", input_dim = 11))\n",
    "#units: numero de nodos\n",
    "#kernel: pesos iniciales de los coef. - uniforme/constante/....\n",
    "#activation: en función de los datos de salida / activar capas intermedias, si la información es relevante se activa\n",
    "#input_dim: tamaño de entrada de los datos (variables)"
   ]
  },
  {
   "cell_type": "markdown",
   "id": "65f94482",
   "metadata": {},
   "source": [
    "### Añadir la segunda capa oculta"
   ]
  },
  {
   "cell_type": "code",
   "execution_count": null,
   "id": "c319fd0a",
   "metadata": {},
   "outputs": [],
   "source": [
    "classifier.add(Dense(units = 6, kernel_initializer = \"uniform\",  activation = \"relu\"))"
   ]
  },
  {
   "cell_type": "markdown",
   "id": "e9357811",
   "metadata": {},
   "source": [
    "### Añadir la capa de salida"
   ]
  },
  {
   "cell_type": "code",
   "execution_count": null,
   "id": "3fac8c7e",
   "metadata": {},
   "outputs": [],
   "source": [
    "classifier.add(Dense(units = 1, kernel_initializer = \"uniform\",  activation = \"sigmoid\"))\n",
    "#sigmoid: devuelve entre 0 y 1 (si se cumple la hipótesis o no)\n",
    "#si queremos clasificar en n categorias: units=n, activation=\"escalon o relu\""
   ]
  },
  {
   "cell_type": "markdown",
   "id": "ee221fe5",
   "metadata": {},
   "source": [
    "### Compilar la RNA"
   ]
  },
  {
   "cell_type": "code",
   "execution_count": null,
   "id": "7041affe",
   "metadata": {},
   "outputs": [],
   "source": [
    "classifier.compile(optimizer = \"adam\", loss = \"binary_crossentropy\", metrics = [\"accuracy\"])\n",
    "#optimizer: algoritmo de conjunto optimo de pesos: grad. desc. / estocastico/ adam (por defecto y recomendado)\n",
    "#loss: funcion de perdidas: diferencias cuadrados distancias (num salida), crossentropy (si es binaria o categórica), ...\n",
    "#metrics: precisión TP, FP, TN, FN // en regresión deberia ser RMSE??"
   ]
  },
  {
   "cell_type": "markdown",
   "id": "94ffb11a",
   "metadata": {},
   "source": [
    "### Ajustamos la RNA al Conjunto de Entrenamiento"
   ]
  },
  {
   "cell_type": "code",
   "execution_count": null,
   "id": "afbd0222",
   "metadata": {},
   "outputs": [],
   "source": [
    "classifier.fit(X_train, y_train,  batch_size = 10, epochs = 100)\n",
    "#batch_size:\n",
    "#epochs: "
   ]
  },
  {
   "cell_type": "markdown",
   "id": "927a5326",
   "metadata": {},
   "source": [
    "# Parte 3 - Evaluar el modelo y calcular predicciones finales"
   ]
  },
  {
   "cell_type": "markdown",
   "id": "5c6408d2",
   "metadata": {},
   "source": [
    "### Predicción de los resultados con el Conjunto de Testing"
   ]
  },
  {
   "cell_type": "code",
   "execution_count": null,
   "id": "b42b6fdb",
   "metadata": {},
   "outputs": [],
   "source": [
    "y_pred  = classifier.predict(X_test)\n",
    "y_pred = (y_pred>0.5)"
   ]
  },
  {
   "cell_type": "markdown",
   "id": "991b1b4a",
   "metadata": {},
   "source": [
    "### Elaborar una matriz de confusión"
   ]
  },
  {
   "cell_type": "code",
   "execution_count": null,
   "id": "53350186",
   "metadata": {},
   "outputs": [],
   "source": [
    "from sklearn.metrics import confusion_matrix\n",
    "cm = confusion_matrix(y_test, y_pred)"
   ]
  }
 ],
 "metadata": {
  "kernelspec": {
   "display_name": "Python 3",
   "language": "python",
   "name": "python3"
  },
  "language_info": {
   "codemirror_mode": {
    "name": "ipython",
    "version": 3
   },
   "file_extension": ".py",
   "mimetype": "text/x-python",
   "name": "python",
   "nbconvert_exporter": "python",
   "pygments_lexer": "ipython3",
   "version": "3.8.8"
  }
 },
 "nbformat": 4,
 "nbformat_minor": 5
}
