{
 "cells": [
  {
   "cell_type": "markdown",
   "id": "54907da5",
   "metadata": {},
   "source": [
    "###  RATINGS COUNTER"
   ]
  },
  {
   "cell_type": "code",
   "execution_count": null,
   "id": "e189e1b8",
   "metadata": {},
   "outputs": [],
   "source": [
    "#librería de configuración (ejecutar en pc o en un cluster) y SC :: esenciales\n",
    "from pyspark import SparkConf, SparkContext\n",
    "#collections para ordenadar la salida del script\n",
    "import collections\n",
    "\n",
    "#configuración de spark\n",
    "conf = SparkConf().setMaster(\"local\").setAppName(\"RatingsHistogram\")\n",
    "sc = SparkContext(conf = conf)\n",
    "\n",
    "#cargar el fichero\n",
    "lines = sc.textFile(\"C:/spark_data/ml-100k/u.data\")\n",
    "\n",
    "#parse data y contar por valor\n",
    "ratings = lines.map(lambda x: x.split()[2]) #extraer el elemento 2 (valoración) de cada fila y distribuir en un vector RDD\n",
    "#función de contar valores\n",
    "result = ratings.countByValue()\n",
    "\n",
    "#crear histograma/ no spark\n",
    "sortedResults = collections.OrderedDict(sorted(result.items()))\n",
    "for key, value in sortedResults.items():\n",
    "    print(\"%s %i\" % (key, value))"
   ]
  },
  {
   "cell_type": "markdown",
   "id": "4d5fe901",
   "metadata": {},
   "source": [
    "### Friends-by-age"
   ]
  },
  {
   "cell_type": "code",
   "execution_count": null,
   "id": "4d811f64",
   "metadata": {},
   "outputs": [],
   "source": [
    "from pyspark import SparkConf, SparkContext\n",
    "\n",
    "conf = SparkConf().setMaster(\"local\").setAppName(\"FriendsByAge\")\n",
    "sc = SparkContext(conf = conf)\n",
    "\n",
    "def parseLine(line):\n",
    "    fields = line.split(',')\n",
    "    age = int(fields[2])\n",
    "    numFriends = int(fields[3])\n",
    "    return (age, numFriends)\n",
    "\n",
    "#mapping\n",
    "lines = sc.textFile(\"C:/spark_data/fakefriends.csv\")\n",
    "rdd = lines.map(parseLine)\n",
    "#counting & aggregate\n",
    "#1º transformar el value x en (x,1) y luego reduce by key el vector transformado (x,y) y sumar\n",
    "totalsByAge = rdd.mapValues(lambda x: (x, 1)).reduceByKey(lambda x, y: (x[0] + y[0], x[1] + y[1])) #acumulado\n",
    "averagesByAge = totalsByAge.mapValues(lambda x: x[0] / x[1])\n",
    "#collect results y print\n",
    "results = averagesByAge.collect()\n",
    "for result in results:\n",
    "    print(result)\n"
   ]
  },
  {
   "cell_type": "markdown",
   "id": "6f09ef6f",
   "metadata": {},
   "source": [
    "### Filtering"
   ]
  },
  {
   "cell_type": "code",
   "execution_count": null,
   "id": "dadb43cd",
   "metadata": {},
   "outputs": [],
   "source": [
    "from pyspark import SparkConf, SparkContext\n",
    "\n",
    "conf = SparkConf().setMaster(\"local\").setAppName(\"MinTemperatures\")\n",
    "sc = SparkContext(conf = conf)\n",
    "\n",
    "def parseLine(line):\n",
    "    fields = line.split(',')\n",
    "    stationID = fields[0]\n",
    "    entryType = fields[2]\n",
    "    temperature = float(fields[3]) * 0.1 * (9.0 / 5.0) + 32.0\n",
    "    return (stationID, entryType, temperature)\n",
    "\n",
    "lines = sc.textFile(\"C:/spark_data/1800.csv\")\n",
    "parsedLines = lines.map(parseLine)\n",
    "\n",
    "#construye RDD con las observaciones que contengan TMIN, lambda devuelve bool y el filtro se queda con los TRUE\n",
    "minTemps = parsedLines.filter(lambda x: \"TMIN\" in x[1]) #TMAX para filtrar por el máximo\n",
    "#nuevo map, nos quedamos unicamente con stationID y temperature\n",
    "stationTemps = minTemps.map(lambda x: (x[0], x[2]))\n",
    "#reduce by key, devuelve el min para cada key\n",
    "minTemps = stationTemps.reduceByKey(lambda x, y: min(x,y))\n",
    "\n",
    "results = minTemps.collect();\n",
    "\n",
    "for result in results:\n",
    "    print(result[0] + \"\\t{:.2f}F\".format(result[1]))\n"
   ]
  },
  {
   "cell_type": "markdown",
   "id": "7ee3a3ea",
   "metadata": {},
   "source": [
    "### Counting words"
   ]
  },
  {
   "cell_type": "code",
   "execution_count": null,
   "id": "b1c0b56a",
   "metadata": {},
   "outputs": [],
   "source": [
    "import re\n",
    "from pyspark import SparkConf, SparkContext\n",
    "\n",
    "def normalizeWords(text):\n",
    "    return re.compile(r'\\W+', re.UNICODE).split(text.lower()) #eliminar puntuaciones y pasar a minúscula\n",
    "\n",
    "conf = SparkConf().setMaster(\"local\").setAppName(\"WordCount\")\n",
    "sc = SparkContext(conf = conf)\n",
    "\n",
    "input = sc.textFile(\"C:/spark_data/book.txt\")\n",
    "words = input.flatMap(normalizeWords)\n",
    "#añadir un contador manual con un mapper y sumar por keys (agrupamos las palabras y creamos el contador)\n",
    "wordCounts = words.map(lambda x: (x, 1)).reduceByKey(lambda x, y: x + y) \n",
    "#cambiamos el orden de los elementos de la lista y ordenamos por key (que era el antiguo valor)\n",
    "wordCountsSorted = wordCounts.map(lambda x: (x[1], x[0])).sortByKey()  \n",
    "results = wordCountsSorted.collect()\n",
    "\n",
    "for result in results:\n",
    "    count = str(result[0])\n",
    "    word = result[1].encode('ascii', 'ignore')\n",
    "    if (word):\n",
    "        print(word.decode() + \":\\t\\t\" + count)\n"
   ]
  },
  {
   "cell_type": "markdown",
   "id": "66b7dba9",
   "metadata": {},
   "source": [
    "### Total amount spent by costumer"
   ]
  },
  {
   "cell_type": "code",
   "execution_count": null,
   "id": "f7b55335",
   "metadata": {},
   "outputs": [],
   "source": [
    "from pyspark import SparkConf, SparkContext\n",
    "\n",
    "conf = SparkConf().setMaster(\"local\").setAppName(\"TotalSpent\")\n",
    "sc = SparkContext(conf = conf)\n",
    "\n",
    "def parseLine(line):\n",
    "    fields = line.split(',')\n",
    "    customerID = int(fields[0])\n",
    "    spent = float(fields[2])\n",
    "    return (customerID, spent)\n",
    "\n",
    "input = sc.textFile(\"C:/spark_data/customer-orders.csv\")\n",
    "rdd = input.map(parseLine)\n",
    "\n",
    "spendByClient = rdd.reduceByKey(lambda x, y: (x + y))\n",
    "spendByClientSorted = spendByClient.map(lambda x: (x[1], x[0])).sortByKey()  \n",
    "\n",
    "results = spendByClientSorted.collect(); #python object\n",
    "\n",
    "for result in results:\n",
    "    print(result)"
   ]
  },
  {
   "cell_type": "code",
   "execution_count": null,
   "id": "2b01ee08",
   "metadata": {},
   "outputs": [],
   "source": []
  },
  {
   "cell_type": "code",
   "execution_count": null,
   "id": "bfa3169b",
   "metadata": {},
   "outputs": [],
   "source": []
  },
  {
   "cell_type": "code",
   "execution_count": null,
   "id": "49895c69",
   "metadata": {},
   "outputs": [],
   "source": []
  },
  {
   "cell_type": "code",
   "execution_count": null,
   "id": "9f2082e8",
   "metadata": {},
   "outputs": [],
   "source": []
  }
 ],
 "metadata": {
  "kernelspec": {
   "display_name": "Python 3",
   "language": "python",
   "name": "python3"
  },
  "language_info": {
   "codemirror_mode": {
    "name": "ipython",
    "version": 3
   },
   "file_extension": ".py",
   "mimetype": "text/x-python",
   "name": "python",
   "nbconvert_exporter": "python",
   "pygments_lexer": "ipython3",
   "version": "3.8.8"
  }
 },
 "nbformat": 4,
 "nbformat_minor": 5
}
